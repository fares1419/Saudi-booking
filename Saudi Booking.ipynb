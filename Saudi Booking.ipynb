{
 "cells": [
  {
   "cell_type": "code",
   "execution_count": 1,
   "id": "8f5e1204",
   "metadata": {},
   "outputs": [],
   "source": [
    "import pandas as pd\n",
    "import numpy as np\n",
    "from sklearn.linear_model import LinearRegression\n",
    "import matplotlib.pyplot as plt\n",
    "import plotly.express as ex\n",
    "import seaborn as sns "
   ]
  },
  {
   "cell_type": "code",
   "execution_count": 2,
   "id": "4be9f868",
   "metadata": {},
   "outputs": [],
   "source": [
    "df=pd.read_csv('/home/faris/StackOverFlow/booking_saudi_cities_cleaned.csv')"
   ]
  },
  {
   "cell_type": "code",
   "execution_count": 3,
   "id": "fdb158a2",
   "metadata": {},
   "outputs": [
    {
     "data": {
      "text/plain": [
       "0"
      ]
     },
     "execution_count": 3,
     "metadata": {},
     "output_type": "execute_result"
    }
   ],
   "source": [
    "#check for dublicate rows\n",
    "sum(df.duplicated())\n"
   ]
  },
  {
   "cell_type": "code",
   "execution_count": 4,
   "id": "de17398f",
   "metadata": {},
   "outputs": [
    {
     "name": "stdout",
     "output_type": "stream",
     "text": [
      "<class 'pandas.core.frame.DataFrame'>\n",
      "RangeIndex: 1389 entries, 0 to 1388\n",
      "Data columns (total 9 columns):\n",
      " #   Column                Non-Null Count  Dtype  \n",
      "---  ------                --------------  -----  \n",
      " 0   Unnamed: 0            1389 non-null   int64  \n",
      " 1   Hotel_name            1389 non-null   object \n",
      " 2   Are                   1389 non-null   object \n",
      " 3    Review               1389 non-null   float64\n",
      " 4    price                1389 non-null   object \n",
      " 5   url                   1389 non-null   object \n",
      " 6   facilities            1389 non-null   object \n",
      " 7   checklist_facilities  1389 non-null   object \n",
      " 8   city                  1389 non-null   object \n",
      "dtypes: float64(1), int64(1), object(7)\n",
      "memory usage: 97.8+ KB\n"
     ]
    }
   ],
   "source": [
    "df.info()"
   ]
  },
  {
   "cell_type": "code",
   "execution_count": 5,
   "id": "d970ba9c",
   "metadata": {},
   "outputs": [
    {
     "name": "stdout",
     "output_type": "stream",
     "text": [
      "1389\n",
      "9\n"
     ]
    }
   ],
   "source": [
    "#Exloration data\n",
    "print(df.shape[0])\n",
    "print(df.shape[1])"
   ]
  },
  {
   "cell_type": "code",
   "execution_count": 6,
   "id": "2e50ff79",
   "metadata": {},
   "outputs": [
    {
     "data": {
      "text/plain": [
       "Unnamed: 0              0\n",
       "Hotel_name              0\n",
       "Are                     0\n",
       " Review                 0\n",
       " price                  0\n",
       "url                     0\n",
       "facilities              0\n",
       "checklist_facilities    0\n",
       "city                    0\n",
       "dtype: int64"
      ]
     },
     "execution_count": 6,
     "metadata": {},
     "output_type": "execute_result"
    }
   ],
   "source": [
    "#check for nulls\n",
    "df.isnull().sum()"
   ]
  },
  {
   "cell_type": "code",
   "execution_count": 7,
   "id": "7790ce7a",
   "metadata": {},
   "outputs": [
    {
     "data": {
      "text/html": [
       "<div>\n",
       "<style scoped>\n",
       "    .dataframe tbody tr th:only-of-type {\n",
       "        vertical-align: middle;\n",
       "    }\n",
       "\n",
       "    .dataframe tbody tr th {\n",
       "        vertical-align: top;\n",
       "    }\n",
       "\n",
       "    .dataframe thead th {\n",
       "        text-align: right;\n",
       "    }\n",
       "</style>\n",
       "<table border=\"1\" class=\"dataframe\">\n",
       "  <thead>\n",
       "    <tr style=\"text-align: right;\">\n",
       "      <th></th>\n",
       "      <th>Unnamed: 0</th>\n",
       "      <th>Hotel_name</th>\n",
       "      <th>Are</th>\n",
       "      <th>Review</th>\n",
       "      <th>price</th>\n",
       "      <th>url</th>\n",
       "      <th>facilities</th>\n",
       "      <th>checklist_facilities</th>\n",
       "      <th>city</th>\n",
       "    </tr>\n",
       "  </thead>\n",
       "  <tbody>\n",
       "    <tr>\n",
       "      <th>0</th>\n",
       "      <td>0</td>\n",
       "      <td>Madinah Mövenpick Hotel</td>\n",
       "      <td>350 m from center</td>\n",
       "      <td>7.6</td>\n",
       "      <td>599</td>\n",
       "      <td>https://booking.com/hotel/sa/madinah-movenpick...</td>\n",
       "      <td>[]</td>\n",
       "      <td>['Pets:Pets are not allowed.:', 'Food &amp;amp; Dr...</td>\n",
       "      <td>Madinah</td>\n",
       "    </tr>\n",
       "    <tr>\n",
       "      <th>1</th>\n",
       "      <td>1</td>\n",
       "      <td>Dar Al Hijra InterContinental</td>\n",
       "      <td>750 m from center</td>\n",
       "      <td>7.9</td>\n",
       "      <td>618</td>\n",
       "      <td>https://booking.com/hotel/sa/dar-al-hijra-inte...</td>\n",
       "      <td>['Family rooms']</td>\n",
       "      <td>['Outdoors:Outdoor furniture:', 'Pets:Pets are...</td>\n",
       "      <td>Madinah</td>\n",
       "    </tr>\n",
       "    <tr>\n",
       "      <th>2</th>\n",
       "      <td>2</td>\n",
       "      <td>Al Madinah Harmony Hotel</td>\n",
       "      <td>750 m from center</td>\n",
       "      <td>7.2</td>\n",
       "      <td>440</td>\n",
       "      <td>https://booking.com/hotel/sa/al-madinah-harmon...</td>\n",
       "      <td>['Free WiFi']</td>\n",
       "      <td>['Pets:Pets are not allowed.:', \"Food &amp;amp; Dr...</td>\n",
       "      <td>Madinah</td>\n",
       "    </tr>\n",
       "    <tr>\n",
       "      <th>3</th>\n",
       "      <td>3</td>\n",
       "      <td>Millennium Madinah Airport</td>\n",
       "      <td>14 km from center</td>\n",
       "      <td>8.3</td>\n",
       "      <td>550</td>\n",
       "      <td>https://booking.com/hotel/sa/millennium-madina...</td>\n",
       "      <td>['Restaurant']</td>\n",
       "      <td>['Pets:Pets are not allowed.:', 'Food &amp;amp; Dr...</td>\n",
       "      <td>Madinah</td>\n",
       "    </tr>\n",
       "    <tr>\n",
       "      <th>4</th>\n",
       "      <td>4</td>\n",
       "      <td>Marina Palace Hotel</td>\n",
       "      <td>1.4 km from center</td>\n",
       "      <td>7.5</td>\n",
       "      <td>7,935</td>\n",
       "      <td>https://booking.com/hotel/sa/marina-palace.htm...</td>\n",
       "      <td>['Non-smoking rooms']</td>\n",
       "      <td>['Outdoors:Terrace:', 'Pets:Pets are not allow...</td>\n",
       "      <td>Madinah</td>\n",
       "    </tr>\n",
       "  </tbody>\n",
       "</table>\n",
       "</div>"
      ],
      "text/plain": [
       "   Unnamed: 0                     Hotel_name                 Are   Review  \\\n",
       "0           0        Madinah Mövenpick Hotel   350 m from center      7.6   \n",
       "1           1  Dar Al Hijra InterContinental   750 m from center      7.9   \n",
       "2           2       Al Madinah Harmony Hotel   750 m from center      7.2   \n",
       "3           3     Millennium Madinah Airport   14 km from center      8.3   \n",
       "4           4            Marina Palace Hotel  1.4 km from center      7.5   \n",
       "\n",
       "   price                                                url  \\\n",
       "0    599  https://booking.com/hotel/sa/madinah-movenpick...   \n",
       "1    618  https://booking.com/hotel/sa/dar-al-hijra-inte...   \n",
       "2    440  https://booking.com/hotel/sa/al-madinah-harmon...   \n",
       "3    550  https://booking.com/hotel/sa/millennium-madina...   \n",
       "4  7,935  https://booking.com/hotel/sa/marina-palace.htm...   \n",
       "\n",
       "              facilities                               checklist_facilities  \\\n",
       "0                     []  ['Pets:Pets are not allowed.:', 'Food &amp; Dr...   \n",
       "1       ['Family rooms']  ['Outdoors:Outdoor furniture:', 'Pets:Pets are...   \n",
       "2          ['Free WiFi']  ['Pets:Pets are not allowed.:', \"Food &amp; Dr...   \n",
       "3         ['Restaurant']  ['Pets:Pets are not allowed.:', 'Food &amp; Dr...   \n",
       "4  ['Non-smoking rooms']  ['Outdoors:Terrace:', 'Pets:Pets are not allow...   \n",
       "\n",
       "      city  \n",
       "0  Madinah  \n",
       "1  Madinah  \n",
       "2  Madinah  \n",
       "3  Madinah  \n",
       "4  Madinah  "
      ]
     },
     "execution_count": 7,
     "metadata": {},
     "output_type": "execute_result"
    }
   ],
   "source": [
    "df.head()"
   ]
  },
  {
   "cell_type": "code",
   "execution_count": 8,
   "id": "04350d6a",
   "metadata": {},
   "outputs": [
    {
     "data": {
      "text/html": [
       "<div>\n",
       "<style scoped>\n",
       "    .dataframe tbody tr th:only-of-type {\n",
       "        vertical-align: middle;\n",
       "    }\n",
       "\n",
       "    .dataframe tbody tr th {\n",
       "        vertical-align: top;\n",
       "    }\n",
       "\n",
       "    .dataframe thead th {\n",
       "        text-align: right;\n",
       "    }\n",
       "</style>\n",
       "<table border=\"1\" class=\"dataframe\">\n",
       "  <thead>\n",
       "    <tr style=\"text-align: right;\">\n",
       "      <th></th>\n",
       "      <th>Hotel_name</th>\n",
       "      <th>Are</th>\n",
       "      <th>Review</th>\n",
       "      <th>price</th>\n",
       "      <th>url</th>\n",
       "      <th>facilities</th>\n",
       "      <th>checklist_facilities</th>\n",
       "      <th>city</th>\n",
       "    </tr>\n",
       "  </thead>\n",
       "  <tbody>\n",
       "    <tr>\n",
       "      <th>0</th>\n",
       "      <td>Madinah Mövenpick Hotel</td>\n",
       "      <td>350 m from center</td>\n",
       "      <td>7.6</td>\n",
       "      <td>599</td>\n",
       "      <td>https://booking.com/hotel/sa/madinah-movenpick...</td>\n",
       "      <td>[]</td>\n",
       "      <td>['Pets:Pets are not allowed.:', 'Food &amp;amp; Dr...</td>\n",
       "      <td>Madinah</td>\n",
       "    </tr>\n",
       "    <tr>\n",
       "      <th>1</th>\n",
       "      <td>Dar Al Hijra InterContinental</td>\n",
       "      <td>750 m from center</td>\n",
       "      <td>7.9</td>\n",
       "      <td>618</td>\n",
       "      <td>https://booking.com/hotel/sa/dar-al-hijra-inte...</td>\n",
       "      <td>['Family rooms']</td>\n",
       "      <td>['Outdoors:Outdoor furniture:', 'Pets:Pets are...</td>\n",
       "      <td>Madinah</td>\n",
       "    </tr>\n",
       "    <tr>\n",
       "      <th>2</th>\n",
       "      <td>Al Madinah Harmony Hotel</td>\n",
       "      <td>750 m from center</td>\n",
       "      <td>7.2</td>\n",
       "      <td>440</td>\n",
       "      <td>https://booking.com/hotel/sa/al-madinah-harmon...</td>\n",
       "      <td>['Free WiFi']</td>\n",
       "      <td>['Pets:Pets are not allowed.:', \"Food &amp;amp; Dr...</td>\n",
       "      <td>Madinah</td>\n",
       "    </tr>\n",
       "    <tr>\n",
       "      <th>3</th>\n",
       "      <td>Millennium Madinah Airport</td>\n",
       "      <td>14 km from center</td>\n",
       "      <td>8.3</td>\n",
       "      <td>550</td>\n",
       "      <td>https://booking.com/hotel/sa/millennium-madina...</td>\n",
       "      <td>['Restaurant']</td>\n",
       "      <td>['Pets:Pets are not allowed.:', 'Food &amp;amp; Dr...</td>\n",
       "      <td>Madinah</td>\n",
       "    </tr>\n",
       "    <tr>\n",
       "      <th>4</th>\n",
       "      <td>Marina Palace Hotel</td>\n",
       "      <td>1.4 km from center</td>\n",
       "      <td>7.5</td>\n",
       "      <td>7,935</td>\n",
       "      <td>https://booking.com/hotel/sa/marina-palace.htm...</td>\n",
       "      <td>['Non-smoking rooms']</td>\n",
       "      <td>['Outdoors:Terrace:', 'Pets:Pets are not allow...</td>\n",
       "      <td>Madinah</td>\n",
       "    </tr>\n",
       "    <tr>\n",
       "      <th>...</th>\n",
       "      <td>...</td>\n",
       "      <td>...</td>\n",
       "      <td>...</td>\n",
       "      <td>...</td>\n",
       "      <td>...</td>\n",
       "      <td>...</td>\n",
       "      <td>...</td>\n",
       "      <td>...</td>\n",
       "    </tr>\n",
       "    <tr>\n",
       "      <th>1384</th>\n",
       "      <td>فندق إيلاف المشاعر مكة</td>\n",
       "      <td>700 متر من المركز</td>\n",
       "      <td>7.4</td>\n",
       "      <td>2,400</td>\n",
       "      <td>https://booking.com/hotel/sa/elaf-al-mashaer-m...</td>\n",
       "      <td>['غرف عائلية']</td>\n",
       "      <td>['أنشطة خارجية:مدفأة خارجية:تراس:', 'الحيوانات...</td>\n",
       "      <td>Makkah</td>\n",
       "    </tr>\n",
       "    <tr>\n",
       "      <th>1385</th>\n",
       "      <td>فندق سنود اجياد</td>\n",
       "      <td>1.1 كلم من المركز</td>\n",
       "      <td>8.0</td>\n",
       "      <td>899</td>\n",
       "      <td>https://booking.com/hotel/sa/snwd-jyd.ar.html?...</td>\n",
       "      <td>['غرف لغير المدخنين']</td>\n",
       "      <td>['الحيوانات الأليفة:الحيوانات الأليفة  مسموح ب...</td>\n",
       "      <td>Makkah</td>\n",
       "    </tr>\n",
       "    <tr>\n",
       "      <th>1386</th>\n",
       "      <td>KENZI AL JEWAR HOTEL</td>\n",
       "      <td>2.8 كلم من المركز</td>\n",
       "      <td>7.3</td>\n",
       "      <td>357</td>\n",
       "      <td>https://booking.com/hotel/sa/fndq-knzy-ljwr.ar...</td>\n",
       "      <td>['مرافق لذوي الاحتياجات الخاصة']</td>\n",
       "      <td>['الحيوانات الأليفة:الحيوانات الأليفة غير مسمو...</td>\n",
       "      <td>Makkah</td>\n",
       "    </tr>\n",
       "    <tr>\n",
       "      <th>1387</th>\n",
       "      <td>فندق كونكورد مكة</td>\n",
       "      <td>4 كلم من المركز</td>\n",
       "      <td>7.4</td>\n",
       "      <td>300</td>\n",
       "      <td>https://booking.com/hotel/sa/concorde-makkah.a...</td>\n",
       "      <td>[]</td>\n",
       "      <td>['الحيوانات الأليفة:الحيوانات الأليفة غير مسمو...</td>\n",
       "      <td>Makkah</td>\n",
       "    </tr>\n",
       "    <tr>\n",
       "      <th>1388</th>\n",
       "      <td>إيلاف السلام</td>\n",
       "      <td>1.9 كلم من المركز</td>\n",
       "      <td>7.1</td>\n",
       "      <td>310</td>\n",
       "      <td>https://booking.com/hotel/sa/elaf-al-salam-mec...</td>\n",
       "      <td>['واي فاي مجاني']</td>\n",
       "      <td>['الحيوانات الأليفة:الحيوانات الأليفة غير مسمو...</td>\n",
       "      <td>Makkah</td>\n",
       "    </tr>\n",
       "  </tbody>\n",
       "</table>\n",
       "<p>1389 rows × 8 columns</p>\n",
       "</div>"
      ],
      "text/plain": [
       "                         Hotel_name                 Are   Review  price  \\\n",
       "0           Madinah Mövenpick Hotel   350 m from center      7.6    599   \n",
       "1     Dar Al Hijra InterContinental   750 m from center      7.9    618   \n",
       "2          Al Madinah Harmony Hotel   750 m from center      7.2    440   \n",
       "3        Millennium Madinah Airport   14 km from center      8.3    550   \n",
       "4               Marina Palace Hotel  1.4 km from center      7.5  7,935   \n",
       "...                             ...                 ...      ...    ...   \n",
       "1384         فندق إيلاف المشاعر مكة   700 متر من المركز      7.4  2,400   \n",
       "1385                فندق سنود اجياد   1.1 كلم من المركز      8.0    899   \n",
       "1386           KENZI AL JEWAR HOTEL   2.8 كلم من المركز      7.3    357   \n",
       "1387               فندق كونكورد مكة     4 كلم من المركز      7.4    300   \n",
       "1388                   إيلاف السلام   1.9 كلم من المركز      7.1    310   \n",
       "\n",
       "                                                    url  \\\n",
       "0     https://booking.com/hotel/sa/madinah-movenpick...   \n",
       "1     https://booking.com/hotel/sa/dar-al-hijra-inte...   \n",
       "2     https://booking.com/hotel/sa/al-madinah-harmon...   \n",
       "3     https://booking.com/hotel/sa/millennium-madina...   \n",
       "4     https://booking.com/hotel/sa/marina-palace.htm...   \n",
       "...                                                 ...   \n",
       "1384  https://booking.com/hotel/sa/elaf-al-mashaer-m...   \n",
       "1385  https://booking.com/hotel/sa/snwd-jyd.ar.html?...   \n",
       "1386  https://booking.com/hotel/sa/fndq-knzy-ljwr.ar...   \n",
       "1387  https://booking.com/hotel/sa/concorde-makkah.a...   \n",
       "1388  https://booking.com/hotel/sa/elaf-al-salam-mec...   \n",
       "\n",
       "                            facilities  \\\n",
       "0                                   []   \n",
       "1                     ['Family rooms']   \n",
       "2                        ['Free WiFi']   \n",
       "3                       ['Restaurant']   \n",
       "4                ['Non-smoking rooms']   \n",
       "...                                ...   \n",
       "1384                    ['غرف عائلية']   \n",
       "1385             ['غرف لغير المدخنين']   \n",
       "1386  ['مرافق لذوي الاحتياجات الخاصة']   \n",
       "1387                                []   \n",
       "1388                 ['واي فاي مجاني']   \n",
       "\n",
       "                                   checklist_facilities     city  \n",
       "0     ['Pets:Pets are not allowed.:', 'Food &amp; Dr...  Madinah  \n",
       "1     ['Outdoors:Outdoor furniture:', 'Pets:Pets are...  Madinah  \n",
       "2     ['Pets:Pets are not allowed.:', \"Food &amp; Dr...  Madinah  \n",
       "3     ['Pets:Pets are not allowed.:', 'Food &amp; Dr...  Madinah  \n",
       "4     ['Outdoors:Terrace:', 'Pets:Pets are not allow...  Madinah  \n",
       "...                                                 ...      ...  \n",
       "1384  ['أنشطة خارجية:مدفأة خارجية:تراس:', 'الحيوانات...   Makkah  \n",
       "1385  ['الحيوانات الأليفة:الحيوانات الأليفة  مسموح ب...   Makkah  \n",
       "1386  ['الحيوانات الأليفة:الحيوانات الأليفة غير مسمو...   Makkah  \n",
       "1387  ['الحيوانات الأليفة:الحيوانات الأليفة غير مسمو...   Makkah  \n",
       "1388  ['الحيوانات الأليفة:الحيوانات الأليفة غير مسمو...   Makkah  \n",
       "\n",
       "[1389 rows x 8 columns]"
      ]
     },
     "execution_count": 8,
     "metadata": {},
     "output_type": "execute_result"
    }
   ],
   "source": [
    "#Make a copy\n",
    "df2=df.copy()\n",
    "#the first coulmn is useless\n",
    "df2.drop(df.columns[0],axis=1)"
   ]
  },
  {
   "cell_type": "code",
   "execution_count": 9,
   "id": "69d20fd8",
   "metadata": {},
   "outputs": [],
   "source": [
    "# Split it by space for converting it to numeric (since the column means how hotel far from the city center)\n",
    "df2[\"Far from city center\"]= df2[\"Are\"].str.split(\" \", n = 1, expand = False)\n"
   ]
  },
  {
   "cell_type": "code",
   "execution_count": 10,
   "id": "671541d4",
   "metadata": {},
   "outputs": [],
   "source": [
    "#convert price column from string to float\n",
    "\n",
    "df2[' price']=df2[' price'].str.replace(',','')\n",
    "df2[' price']=df2[' price'].astype(float)"
   ]
  },
  {
   "cell_type": "code",
   "execution_count": 11,
   "id": "6146c39b",
   "metadata": {},
   "outputs": [],
   "source": [
    "df2[\"facilities\"]= df2[\"facilities\"].str.split(\" \", n = 1, expand = False)"
   ]
  },
  {
   "cell_type": "code",
   "execution_count": 12,
   "id": "e9925069",
   "metadata": {},
   "outputs": [
    {
     "name": "stderr",
     "output_type": "stream",
     "text": [
      "/tmp/ipykernel_1304432/3140713472.py:2: SettingWithCopyWarning: \n",
      "A value is trying to be set on a copy of a slice from a DataFrame\n",
      "\n",
      "See the caveats in the documentation: https://pandas.pydata.org/pandas-docs/stable/user_guide/indexing.html#returning-a-view-versus-a-copy\n",
      "  df2[\"Far from city center\"][i]= (df2[\"Far from city center\"][i][0])\n"
     ]
    }
   ],
   "source": [
    "for i in range (df2.shape[0]):\n",
    "     df2[\"Far from city center\"][i]= (df2[\"Far from city center\"][i][0])\n",
    "        \n"
   ]
  },
  {
   "cell_type": "code",
   "execution_count": 13,
   "id": "a0d0f209",
   "metadata": {
    "scrolled": true
   },
   "outputs": [
    {
     "data": {
      "text/plain": [
       "0       350.0\n",
       "1       750.0\n",
       "2       750.0\n",
       "3        14.0\n",
       "4         1.4\n",
       "        ...  \n",
       "1384    700.0\n",
       "1385      1.1\n",
       "1386      2.8\n",
       "1387      4.0\n",
       "1388      1.9\n",
       "Name: Far from city center, Length: 1389, dtype: float64"
      ]
     },
     "execution_count": 13,
     "metadata": {},
     "output_type": "execute_result"
    }
   ],
   "source": [
    "# Convert the (Far from city center) column to float\n",
    "df2[\"Far from city center\"]= pd.to_numeric( df2[\"Far from city center\"],errors='coerce')\n",
    "df2[\"Far from city center\"]"
   ]
  },
  {
   "cell_type": "code",
   "execution_count": 14,
   "id": "0f64ae18",
   "metadata": {},
   "outputs": [
    {
     "name": "stderr",
     "output_type": "stream",
     "text": [
      "/tmp/ipykernel_1304432/2471152737.py:5: SettingWithCopyWarning: \n",
      "A value is trying to be set on a copy of a slice from a DataFrame\n",
      "\n",
      "See the caveats in the documentation: https://pandas.pydata.org/pandas-docs/stable/user_guide/indexing.html#returning-a-view-versus-a-copy\n",
      "  df2[\"Far from city center\"][i]= (df2[\"Far from city center\"][i])/1000\n"
     ]
    }
   ],
   "source": [
    "# Because there is some entries in km and some in meter, i ll make it all in km.\n",
    "for i in range (df2.shape[0]):\n",
    "     if df2[\"Far from city center\"][i] >100:\n",
    "            #Selected 100 because no one will write in km if it is above 100!\n",
    "        df2[\"Far from city center\"][i]= (df2[\"Far from city center\"][i])/1000\n",
    "        \n"
   ]
  },
  {
   "cell_type": "markdown",
   "id": "65862020",
   "metadata": {},
   "source": [
    "# which cities have the most bookings in Saudi Arabia\n"
   ]
  },
  {
   "cell_type": "code",
   "execution_count": 15,
   "id": "bfa7c840",
   "metadata": {},
   "outputs": [
    {
     "data": {
      "text/plain": [
       "Riyadh     509\n",
       "Jeddah     349\n",
       "Khobar     125\n",
       "Makkah     100\n",
       "Yanbu       77\n",
       "Dammam      77\n",
       "Taif        77\n",
       "Madinah     75\n",
       "Name: city, dtype: int64"
      ]
     },
     "execution_count": 15,
     "metadata": {},
     "output_type": "execute_result"
    },
    {
     "data": {
      "image/png": "[encoded data removed]",
      "text/plain": [
       "<Figure size 640x480 with 1 Axes>"
      ]
     },
     "metadata": {},
     "output_type": "display_data"
    }
   ],
   "source": [
    "plt.hist(df2['city'],color='green')\n",
    "df2['city'].value_counts()"
   ]
  },
  {
   "cell_type": "code",
   "execution_count": 16,
   "id": "cffb6808",
   "metadata": {},
   "outputs": [
    {
     "data": {
      "text/html": [
       "<div>\n",
       "<style scoped>\n",
       "    .dataframe tbody tr th:only-of-type {\n",
       "        vertical-align: middle;\n",
       "    }\n",
       "\n",
       "    .dataframe tbody tr th {\n",
       "        vertical-align: top;\n",
       "    }\n",
       "\n",
       "    .dataframe thead th {\n",
       "        text-align: right;\n",
       "    }\n",
       "</style>\n",
       "<table border=\"1\" class=\"dataframe\">\n",
       "  <thead>\n",
       "    <tr style=\"text-align: right;\">\n",
       "      <th></th>\n",
       "      <th>Hotel_name</th>\n",
       "      <th>Are</th>\n",
       "      <th>Review</th>\n",
       "      <th>price</th>\n",
       "      <th>url</th>\n",
       "      <th>facilities</th>\n",
       "      <th>checklist_facilities</th>\n",
       "      <th>city</th>\n",
       "      <th>Far from city center</th>\n",
       "    </tr>\n",
       "  </thead>\n",
       "  <tbody>\n",
       "    <tr>\n",
       "      <th>0</th>\n",
       "      <td>Madinah Mövenpick Hotel</td>\n",
       "      <td>350 m from center</td>\n",
       "      <td>7.6</td>\n",
       "      <td>599.0</td>\n",
       "      <td>https://booking.com/hotel/sa/madinah-movenpick...</td>\n",
       "      <td>[[]]</td>\n",
       "      <td>['Pets:Pets are not allowed.:', 'Food &amp;amp; Dr...</td>\n",
       "      <td>Madinah</td>\n",
       "      <td>0.35</td>\n",
       "    </tr>\n",
       "    <tr>\n",
       "      <th>1</th>\n",
       "      <td>Dar Al Hijra InterContinental</td>\n",
       "      <td>750 m from center</td>\n",
       "      <td>7.9</td>\n",
       "      <td>618.0</td>\n",
       "      <td>https://booking.com/hotel/sa/dar-al-hijra-inte...</td>\n",
       "      <td>[['Family, rooms']]</td>\n",
       "      <td>['Outdoors:Outdoor furniture:', 'Pets:Pets are...</td>\n",
       "      <td>Madinah</td>\n",
       "      <td>0.75</td>\n",
       "    </tr>\n",
       "    <tr>\n",
       "      <th>2</th>\n",
       "      <td>Al Madinah Harmony Hotel</td>\n",
       "      <td>750 m from center</td>\n",
       "      <td>7.2</td>\n",
       "      <td>440.0</td>\n",
       "      <td>https://booking.com/hotel/sa/al-madinah-harmon...</td>\n",
       "      <td>[['Free, WiFi']]</td>\n",
       "      <td>['Pets:Pets are not allowed.:', \"Food &amp;amp; Dr...</td>\n",
       "      <td>Madinah</td>\n",
       "      <td>0.75</td>\n",
       "    </tr>\n",
       "    <tr>\n",
       "      <th>3</th>\n",
       "      <td>Millennium Madinah Airport</td>\n",
       "      <td>14 km from center</td>\n",
       "      <td>8.3</td>\n",
       "      <td>550.0</td>\n",
       "      <td>https://booking.com/hotel/sa/millennium-madina...</td>\n",
       "      <td>[['Restaurant']]</td>\n",
       "      <td>['Pets:Pets are not allowed.:', 'Food &amp;amp; Dr...</td>\n",
       "      <td>Madinah</td>\n",
       "      <td>14.00</td>\n",
       "    </tr>\n",
       "    <tr>\n",
       "      <th>4</th>\n",
       "      <td>Marina Palace Hotel</td>\n",
       "      <td>1.4 km from center</td>\n",
       "      <td>7.5</td>\n",
       "      <td>7935.0</td>\n",
       "      <td>https://booking.com/hotel/sa/marina-palace.htm...</td>\n",
       "      <td>[['Non-smoking, rooms']]</td>\n",
       "      <td>['Outdoors:Terrace:', 'Pets:Pets are not allow...</td>\n",
       "      <td>Madinah</td>\n",
       "      <td>1.40</td>\n",
       "    </tr>\n",
       "    <tr>\n",
       "      <th>...</th>\n",
       "      <td>...</td>\n",
       "      <td>...</td>\n",
       "      <td>...</td>\n",
       "      <td>...</td>\n",
       "      <td>...</td>\n",
       "      <td>...</td>\n",
       "      <td>...</td>\n",
       "      <td>...</td>\n",
       "      <td>...</td>\n",
       "    </tr>\n",
       "    <tr>\n",
       "      <th>1384</th>\n",
       "      <td>فندق إيلاف المشاعر مكة</td>\n",
       "      <td>700 متر من المركز</td>\n",
       "      <td>7.4</td>\n",
       "      <td>2400.0</td>\n",
       "      <td>https://booking.com/hotel/sa/elaf-al-mashaer-m...</td>\n",
       "      <td>[['غرف, عائلية']]</td>\n",
       "      <td>['أنشطة خارجية:مدفأة خارجية:تراس:', 'الحيوانات...</td>\n",
       "      <td>Makkah</td>\n",
       "      <td>0.70</td>\n",
       "    </tr>\n",
       "    <tr>\n",
       "      <th>1385</th>\n",
       "      <td>فندق سنود اجياد</td>\n",
       "      <td>1.1 كلم من المركز</td>\n",
       "      <td>8.0</td>\n",
       "      <td>899.0</td>\n",
       "      <td>https://booking.com/hotel/sa/snwd-jyd.ar.html?...</td>\n",
       "      <td>[['غرف, لغير المدخنين']]</td>\n",
       "      <td>['الحيوانات الأليفة:الحيوانات الأليفة  مسموح ب...</td>\n",
       "      <td>Makkah</td>\n",
       "      <td>1.10</td>\n",
       "    </tr>\n",
       "    <tr>\n",
       "      <th>1386</th>\n",
       "      <td>KENZI AL JEWAR HOTEL</td>\n",
       "      <td>2.8 كلم من المركز</td>\n",
       "      <td>7.3</td>\n",
       "      <td>357.0</td>\n",
       "      <td>https://booking.com/hotel/sa/fndq-knzy-ljwr.ar...</td>\n",
       "      <td>[['مرافق, لذوي الاحتياجات الخاصة']]</td>\n",
       "      <td>['الحيوانات الأليفة:الحيوانات الأليفة غير مسمو...</td>\n",
       "      <td>Makkah</td>\n",
       "      <td>2.80</td>\n",
       "    </tr>\n",
       "    <tr>\n",
       "      <th>1387</th>\n",
       "      <td>فندق كونكورد مكة</td>\n",
       "      <td>4 كلم من المركز</td>\n",
       "      <td>7.4</td>\n",
       "      <td>300.0</td>\n",
       "      <td>https://booking.com/hotel/sa/concorde-makkah.a...</td>\n",
       "      <td>[[]]</td>\n",
       "      <td>['الحيوانات الأليفة:الحيوانات الأليفة غير مسمو...</td>\n",
       "      <td>Makkah</td>\n",
       "      <td>4.00</td>\n",
       "    </tr>\n",
       "    <tr>\n",
       "      <th>1388</th>\n",
       "      <td>إيلاف السلام</td>\n",
       "      <td>1.9 كلم من المركز</td>\n",
       "      <td>7.1</td>\n",
       "      <td>310.0</td>\n",
       "      <td>https://booking.com/hotel/sa/elaf-al-salam-mec...</td>\n",
       "      <td>[['واي, فاي مجاني']]</td>\n",
       "      <td>['الحيوانات الأليفة:الحيوانات الأليفة غير مسمو...</td>\n",
       "      <td>Makkah</td>\n",
       "      <td>1.90</td>\n",
       "    </tr>\n",
       "  </tbody>\n",
       "</table>\n",
       "<p>880 rows × 9 columns</p>\n",
       "</div>"
      ],
      "text/plain": [
       "                         Hotel_name                 Are   Review   price  \\\n",
       "0           Madinah Mövenpick Hotel   350 m from center      7.6   599.0   \n",
       "1     Dar Al Hijra InterContinental   750 m from center      7.9   618.0   \n",
       "2          Al Madinah Harmony Hotel   750 m from center      7.2   440.0   \n",
       "3        Millennium Madinah Airport   14 km from center      8.3   550.0   \n",
       "4               Marina Palace Hotel  1.4 km from center      7.5  7935.0   \n",
       "...                             ...                 ...      ...     ...   \n",
       "1384         فندق إيلاف المشاعر مكة   700 متر من المركز      7.4  2400.0   \n",
       "1385                فندق سنود اجياد   1.1 كلم من المركز      8.0   899.0   \n",
       "1386           KENZI AL JEWAR HOTEL   2.8 كلم من المركز      7.3   357.0   \n",
       "1387               فندق كونكورد مكة     4 كلم من المركز      7.4   300.0   \n",
       "1388                   إيلاف السلام   1.9 كلم من المركز      7.1   310.0   \n",
       "\n",
       "                                                    url  \\\n",
       "0     https://booking.com/hotel/sa/madinah-movenpick...   \n",
       "1     https://booking.com/hotel/sa/dar-al-hijra-inte...   \n",
       "2     https://booking.com/hotel/sa/al-madinah-harmon...   \n",
       "3     https://booking.com/hotel/sa/millennium-madina...   \n",
       "4     https://booking.com/hotel/sa/marina-palace.htm...   \n",
       "...                                                 ...   \n",
       "1384  https://booking.com/hotel/sa/elaf-al-mashaer-m...   \n",
       "1385  https://booking.com/hotel/sa/snwd-jyd.ar.html?...   \n",
       "1386  https://booking.com/hotel/sa/fndq-knzy-ljwr.ar...   \n",
       "1387  https://booking.com/hotel/sa/concorde-makkah.a...   \n",
       "1388  https://booking.com/hotel/sa/elaf-al-salam-mec...   \n",
       "\n",
       "                               facilities  \\\n",
       "0                                    [[]]   \n",
       "1                     [['Family, rooms']]   \n",
       "2                        [['Free, WiFi']]   \n",
       "3                        [['Restaurant']]   \n",
       "4                [['Non-smoking, rooms']]   \n",
       "...                                   ...   \n",
       "1384                    [['غرف, عائلية']]   \n",
       "1385             [['غرف, لغير المدخنين']]   \n",
       "1386  [['مرافق, لذوي الاحتياجات الخاصة']]   \n",
       "1387                                 [[]]   \n",
       "1388                 [['واي, فاي مجاني']]   \n",
       "\n",
       "                                   checklist_facilities     city  \\\n",
       "0     ['Pets:Pets are not allowed.:', 'Food &amp; Dr...  Madinah   \n",
       "1     ['Outdoors:Outdoor furniture:', 'Pets:Pets are...  Madinah   \n",
       "2     ['Pets:Pets are not allowed.:', \"Food &amp; Dr...  Madinah   \n",
       "3     ['Pets:Pets are not allowed.:', 'Food &amp; Dr...  Madinah   \n",
       "4     ['Outdoors:Terrace:', 'Pets:Pets are not allow...  Madinah   \n",
       "...                                                 ...      ...   \n",
       "1384  ['أنشطة خارجية:مدفأة خارجية:تراس:', 'الحيوانات...   Makkah   \n",
       "1385  ['الحيوانات الأليفة:الحيوانات الأليفة  مسموح ب...   Makkah   \n",
       "1386  ['الحيوانات الأليفة:الحيوانات الأليفة غير مسمو...   Makkah   \n",
       "1387  ['الحيوانات الأليفة:الحيوانات الأليفة غير مسمو...   Makkah   \n",
       "1388  ['الحيوانات الأليفة:الحيوانات الأليفة غير مسمو...   Makkah   \n",
       "\n",
       "      Far from city center  \n",
       "0                     0.35  \n",
       "1                     0.75  \n",
       "2                     0.75  \n",
       "3                    14.00  \n",
       "4                     1.40  \n",
       "...                    ...  \n",
       "1384                  0.70  \n",
       "1385                  1.10  \n",
       "1386                  2.80  \n",
       "1387                  4.00  \n",
       "1388                  1.90  \n",
       "\n",
       "[880 rows x 9 columns]"
      ]
     },
     "execution_count": 16,
     "metadata": {},
     "output_type": "execute_result"
    }
   ],
   "source": [
    "mostbooked=df2[ (df2['city']=='Riyadh') | (df2['city']=='jeddah') ]\n",
    "others=df2[ (df2['city']!='Riyadh') & (df2['city']!='jeddah') ]\n",
    "#the first coulmn is useless\n",
    "del mostbooked[mostbooked.columns[0]]\n",
    "del others[others.columns[0]]\n",
    "others"
   ]
  },
  {
   "cell_type": "code",
   "execution_count": 17,
   "id": "807b1a0c",
   "metadata": {},
   "outputs": [
    {
     "name": "stdout",
     "output_type": "stream",
     "text": [
      "7350.0\n",
      "396.5992141453831\n",
      "42.0\n",
      "9999.0\n",
      "456.5034090909091\n",
      "40.0\n"
     ]
    }
   ],
   "source": [
    "maxpricemost=mostbooked[' price'].max()\n",
    "averagepricemost=mostbooked[' price'].mean()\n",
    "minpricemost=mostbooked[' price'].min()\n",
    "print(maxpricemost)\n",
    "print(averagepricemost)\n",
    "print(minpricemost)\n",
    "maxpriceother=others[' price'].max()\n",
    "averagepriceother=others[' price'].mean()\n",
    "minpriceother=others[' price'].min()\n",
    "print(maxpriceother)\n",
    "print(averagepriceother)\n",
    "print(minpriceother)"
   ]
  },
  {
   "cell_type": "code",
   "execution_count": 18,
   "id": "1e48060a",
   "metadata": {},
   "outputs": [
    {
     "data": {
      "image/png": "[encoded data removed]",
      "text/plain": [
       "<Figure size 1000x600 with 1 Axes>"
      ]
     },
     "metadata": {},
     "output_type": "display_data"
    }
   ],
   "source": [
    "plt.figure(figsize=(10,6))\n",
    "bin_edges = np.arange (minpricemost, mostbooked[' price'].max()+1, 5)\n",
    "plt.hist(data = mostbooked, x = ' price', bins = bin_edges, color = 'green')\n",
    "plt.xlim(minpricemost,averagepricemost*2)\n",
    "plt.xlabel('price in Riyadh and Jeddah')\n",
    "plt.ylabel('Frequency');"
   ]
  },
  {
   "cell_type": "code",
   "execution_count": 19,
   "id": "f21c45f3",
   "metadata": {},
   "outputs": [
    {
     "data": {
      "image/png": "[encoded data removed]",
      "text/plain": [
       "<Figure size 1000x600 with 1 Axes>"
      ]
     },
     "metadata": {},
     "output_type": "display_data"
    }
   ],
   "source": [
    "plt.figure(figsize=(10,6))\n",
    "bin_edges = np.arange (minpriceother, others[' price'].max()+1, 5)\n",
    "plt.hist(data = others, x = ' price', bins = bin_edges, color = 'green')\n",
    "plt.xlim(minpriceother,averagepriceother*2)\n",
    "plt.xlabel('price in other cities')\n",
    "plt.ylabel('Frequency');"
   ]
  },
  {
   "cell_type": "raw",
   "id": "f5a00de9",
   "metadata": {},
   "source": [
    "# The most frequent price in Riyadh and jeddah is around 200 Riyal, and around 250 in other cities"
   ]
  },
  {
   "cell_type": "raw",
   "id": "62302f16",
   "metadata": {},
   "source": [
    "# The max and average hotel price is more in other city than Riyadh and Jeddah, in my opnion this because Riyadh and Jeddah have more hotels."
   ]
  },
  {
   "cell_type": "markdown",
   "id": "a5e00a39",
   "metadata": {},
   "source": [
    "# Relation between price and other factors"
   ]
  },
  {
   "cell_type": "code",
   "execution_count": 35,
   "id": "cfbe3f2d",
   "metadata": {},
   "outputs": [
    {
     "data": {
      "text/html": [
       "<style type=\"text/css\">\n",
       "#T_dc08f_row0_col0, #T_dc08f_row1_col1, #T_dc08f_row2_col2 {\n",
       "  background-color: #00441b;\n",
       "  color: #f1f1f1;\n",
       "}\n",
       "#T_dc08f_row0_col1 {\n",
       "  background-color: #a8dca2;\n",
       "  color: #000000;\n",
       "}\n",
       "#T_dc08f_row0_col2, #T_dc08f_row2_col0, #T_dc08f_row2_col1 {\n",
       "  background-color: #f7fcf5;\n",
       "  color: #000000;\n",
       "}\n",
       "#T_dc08f_row1_col0 {\n",
       "  background-color: #9fd899;\n",
       "  color: #000000;\n",
       "}\n",
       "#T_dc08f_row1_col2 {\n",
       "  background-color: #f1faee;\n",
       "  color: #000000;\n",
       "}\n",
       "</style>\n",
       "<table id=\"T_dc08f\">\n",
       "  <thead>\n",
       "    <tr>\n",
       "      <th class=\"blank level0\" >&nbsp;</th>\n",
       "      <th id=\"T_dc08f_level0_col0\" class=\"col_heading level0 col0\" > Review</th>\n",
       "      <th id=\"T_dc08f_level0_col1\" class=\"col_heading level0 col1\" > price</th>\n",
       "      <th id=\"T_dc08f_level0_col2\" class=\"col_heading level0 col2\" >Far from city center</th>\n",
       "    </tr>\n",
       "  </thead>\n",
       "  <tbody>\n",
       "    <tr>\n",
       "      <th id=\"T_dc08f_level0_row0\" class=\"row_heading level0 row0\" > Review</th>\n",
       "      <td id=\"T_dc08f_row0_col0\" class=\"data row0 col0\" >1.000000</td>\n",
       "      <td id=\"T_dc08f_row0_col1\" class=\"data row0 col1\" >0.336576</td>\n",
       "      <td id=\"T_dc08f_row0_col2\" class=\"data row0 col2\" >-0.072216</td>\n",
       "    </tr>\n",
       "    <tr>\n",
       "      <th id=\"T_dc08f_level0_row1\" class=\"row_heading level0 row1\" > price</th>\n",
       "      <td id=\"T_dc08f_row1_col0\" class=\"data row1 col0\" >0.336576</td>\n",
       "      <td id=\"T_dc08f_row1_col1\" class=\"data row1 col1\" >1.000000</td>\n",
       "      <td id=\"T_dc08f_row1_col2\" class=\"data row1 col2\" >-0.023774</td>\n",
       "    </tr>\n",
       "    <tr>\n",
       "      <th id=\"T_dc08f_level0_row2\" class=\"row_heading level0 row2\" >Far from city center</th>\n",
       "      <td id=\"T_dc08f_row2_col0\" class=\"data row2 col0\" >-0.072216</td>\n",
       "      <td id=\"T_dc08f_row2_col1\" class=\"data row2 col1\" >-0.023774</td>\n",
       "      <td id=\"T_dc08f_row2_col2\" class=\"data row2 col2\" >1.000000</td>\n",
       "    </tr>\n",
       "  </tbody>\n",
       "</table>\n"
      ],
      "text/plain": [
       "<pandas.io.formats.style.Styler at 0x7fb727bc0c40>"
      ]
     },
     "execution_count": 35,
     "metadata": {},
     "output_type": "execute_result"
    }
   ],
   "source": [
    "mostbooked.corr().style.background_gradient(cmap=\"Greens\")\n"
   ]
  },
  {
   "cell_type": "code",
   "execution_count": 36,
   "id": "98da10e7",
   "metadata": {},
   "outputs": [
    {
     "data": {
      "text/html": [
       "<style type=\"text/css\">\n",
       "#T_6709e_row0_col0, #T_6709e_row1_col1, #T_6709e_row2_col2 {\n",
       "  background-color: #00441b;\n",
       "  color: #f1f1f1;\n",
       "}\n",
       "#T_6709e_row0_col1 {\n",
       "  background-color: #f1faee;\n",
       "  color: #000000;\n",
       "}\n",
       "#T_6709e_row0_col2 {\n",
       "  background-color: #f4fbf1;\n",
       "  color: #000000;\n",
       "}\n",
       "#T_6709e_row1_col0 {\n",
       "  background-color: #f5fbf2;\n",
       "  color: #000000;\n",
       "}\n",
       "#T_6709e_row1_col2, #T_6709e_row2_col0, #T_6709e_row2_col1 {\n",
       "  background-color: #f7fcf5;\n",
       "  color: #000000;\n",
       "}\n",
       "</style>\n",
       "<table id=\"T_6709e\">\n",
       "  <thead>\n",
       "    <tr>\n",
       "      <th class=\"blank level0\" >&nbsp;</th>\n",
       "      <th id=\"T_6709e_level0_col0\" class=\"col_heading level0 col0\" > Review</th>\n",
       "      <th id=\"T_6709e_level0_col1\" class=\"col_heading level0 col1\" > price</th>\n",
       "      <th id=\"T_6709e_level0_col2\" class=\"col_heading level0 col2\" >Far from city center</th>\n",
       "    </tr>\n",
       "  </thead>\n",
       "  <tbody>\n",
       "    <tr>\n",
       "      <th id=\"T_6709e_level0_row0\" class=\"row_heading level0 row0\" > Review</th>\n",
       "      <td id=\"T_6709e_row0_col0\" class=\"data row0 col0\" >1.000000</td>\n",
       "      <td id=\"T_6709e_row0_col1\" class=\"data row0 col1\" >0.069099</td>\n",
       "      <td id=\"T_6709e_row0_col2\" class=\"data row0 col2\" >0.051602</td>\n",
       "    </tr>\n",
       "    <tr>\n",
       "      <th id=\"T_6709e_level0_row1\" class=\"row_heading level0 row1\" > price</th>\n",
       "      <td id=\"T_6709e_row1_col0\" class=\"data row1 col0\" >0.069099</td>\n",
       "      <td id=\"T_6709e_row1_col1\" class=\"data row1 col1\" >1.000000</td>\n",
       "      <td id=\"T_6709e_row1_col2\" class=\"data row1 col2\" >0.026828</td>\n",
       "    </tr>\n",
       "    <tr>\n",
       "      <th id=\"T_6709e_level0_row2\" class=\"row_heading level0 row2\" >Far from city center</th>\n",
       "      <td id=\"T_6709e_row2_col0\" class=\"data row2 col0\" >0.051602</td>\n",
       "      <td id=\"T_6709e_row2_col1\" class=\"data row2 col1\" >0.026828</td>\n",
       "      <td id=\"T_6709e_row2_col2\" class=\"data row2 col2\" >1.000000</td>\n",
       "    </tr>\n",
       "  </tbody>\n",
       "</table>\n"
      ],
      "text/plain": [
       "<pandas.io.formats.style.Styler at 0x7fb72814e4f0>"
      ]
     },
     "execution_count": 36,
     "metadata": {},
     "output_type": "execute_result"
    }
   ],
   "source": [
    "others.corr().style.background_gradient(cmap=\"Greens\")\n"
   ]
  },
  {
   "cell_type": "raw",
   "id": "ed9a3af6",
   "metadata": {},
   "source": [
    "There is no big influence of the far from the city center on prices in Riyadh and Jeddah, and vice versa for other cities, maybe that is because of the good services in Riyadh and Jeddah not just in the city center.\n"
   ]
  },
  {
   "cell_type": "markdown",
   "id": "602389ba",
   "metadata": {},
   "source": [
    "# Is price related to review?"
   ]
  },
  {
   "cell_type": "raw",
   "id": "a4404b99",
   "metadata": {},
   "source": [
    "We found no huge influence of review on price for cities except Riyadh and Jeddah, and vice versa for Riyadh and Jeddah, The way I see it, that is because there is price competition in Riyadh and Jeddah according to  they have more hotels."
   ]
  },
  {
   "cell_type": "code",
   "execution_count": null,
   "id": "bfd59dbe",
   "metadata": {},
   "outputs": [],
   "source": []
  },
  {
   "cell_type": "code",
   "execution_count": 22,
   "id": "fba6f884",
   "metadata": {},
   "outputs": [
    {
     "name": "stdout",
     "output_type": "stream",
     "text": [
      "9.9\n",
      "7.455009823182705\n",
      "3.4\n",
      "10.0\n",
      "7.725454545454566\n",
      "4.0\n"
     ]
    }
   ],
   "source": [
    "maxReviewemost=mostbooked[' Review'].max()\n",
    "averageReviewemost=mostbooked[' Review'].mean()\n",
    "minReviewmost=mostbooked[' Review'].min()\n",
    "print(maxReviewemost)\n",
    "print(averageReviewemost)\n",
    "print(minReviewmost)\n",
    "maxReviewother=others[' Review'].max()\n",
    "averageReviewother=others[' Review'].mean()\n",
    "minReviewother=others[' Review'].min()\n",
    "print(maxReviewother)\n",
    "print(averageReviewother)\n",
    "print(minReviewother)"
   ]
  },
  {
   "cell_type": "code",
   "execution_count": 23,
   "id": "648d3eae",
   "metadata": {},
   "outputs": [
    {
     "data": {
      "image/png": "[encoded data removed]",
      "text/plain": [
       "<Figure size 1000x600 with 1 Axes>"
      ]
     },
     "metadata": {},
     "output_type": "display_data"
    }
   ],
   "source": [
    "plt.figure(figsize=(10,6))\n",
    "bin_edges = np.arange (minReviewmost, mostbooked[' Review'].max()+1, 0.2)\n",
    "plt.hist(data = mostbooked, x = ' Review', bins = bin_edges, color = 'green')\n",
    "plt.xlim(minReviewmost,maxReviewemost)\n",
    "plt.xlabel('Review')\n",
    "plt.ylabel('Frequency');"
   ]
  },
  {
   "cell_type": "code",
   "execution_count": 25,
   "id": "7920d4b6",
   "metadata": {},
   "outputs": [
    {
     "data": {
      "image/png": "[encoded data removed]",
      "text/plain": [
       "<Figure size 1000x600 with 1 Axes>"
      ]
     },
     "metadata": {},
     "output_type": "display_data"
    }
   ],
   "source": [
    "plt.figure(figsize=(10,6))\n",
    "bin_edges = np.arange (minReviewmost, others[' Review'].max()+1, 0.2)\n",
    "plt.hist(data = others, x = ' Review', bins = bin_edges, color = 'green')\n",
    "plt.xlim(minReviewother,maxReviewother)\n",
    "plt.xlabel('Review')\n",
    "plt.ylabel('Frequency');"
   ]
  },
  {
   "cell_type": "markdown",
   "id": "d419666b",
   "metadata": {},
   "source": [
    "# What is the range of prices in saudi booking?"
   ]
  },
  {
   "cell_type": "code",
   "execution_count": 37,
   "id": "ddc29289",
   "metadata": {},
   "outputs": [
    {
     "data": {
      "image/png": "[encoded data removed]",
      "text/plain": [
       "<Figure size 1000x700 with 1 Axes>"
      ]
     },
     "metadata": {},
     "output_type": "display_data"
    }
   ],
   "source": [
    "fig = plt.figure(figsize =(10, 7))\n",
    " \n",
    "plt.boxplot(df2[' price'] )\n",
    " \n",
    "plt.show()"
   ]
  },
  {
   "cell_type": "raw",
   "id": "0451e9fa",
   "metadata": {},
   "source": [
    "# 75% of hotel price in Saudi arabia is under 1000 Riyal"
   ]
  },
  {
   "cell_type": "code",
   "execution_count": null,
   "id": "7999741d",
   "metadata": {},
   "outputs": [],
   "source": []
  },
  {
   "cell_type": "code",
   "execution_count": null,
   "id": "18b635dc",
   "metadata": {},
   "outputs": [],
   "source": []
  },
  {
   "cell_type": "code",
   "execution_count": 28,
   "id": "93d198ba",
   "metadata": {},
   "outputs": [],
   "source": [
    "#High price hotel is the hotel with price aboce 1000 Riyal (far from the box plot).\n",
    "highprice=df2[df2[' price'] > 1000]\n",
    "lowprice=df2[df2[' price'] < 1000]"
   ]
  },
  {
   "cell_type": "code",
   "execution_count": 29,
   "id": "8008a8a2",
   "metadata": {},
   "outputs": [
    {
     "name": "stdout",
     "output_type": "stream",
     "text": [
      "86\n",
      "6.19150467962563\n"
     ]
    }
   ],
   "source": [
    "# How many?\n",
    "print(highprice.shape[0])#the first coulmn is useless\n",
    "\n",
    "# Percentage?\n",
    "print(highprice.shape[0]/df2.shape[0] * 100)"
   ]
  },
  {
   "cell_type": "code",
   "execution_count": 30,
   "id": "d2b145ef",
   "metadata": {},
   "outputs": [
    {
     "data": {
      "image/png": "[encoded data removed]",
      "text/plain": [
       "<Figure size 1000x700 with 1 Axes>"
      ]
     },
     "metadata": {},
     "output_type": "display_data"
    }
   ],
   "source": [
    "fig = plt.figure(figsize =(10, 7))\n",
    " \n",
    "plt.boxplot(highprice[' Review'] )\n",
    " \n",
    "plt.show()"
   ]
  },
  {
   "cell_type": "raw",
   "id": "655462e6",
   "metadata": {},
   "source": [
    "# 75% of high hotel price review in other cities is between 7.75 and ≈8.3 out of 10"
   ]
  },
  {
   "cell_type": "code",
   "execution_count": null,
   "id": "e5673043",
   "metadata": {},
   "outputs": [],
   "source": []
  },
  {
   "cell_type": "markdown",
   "id": "eae4fa3d",
   "metadata": {},
   "source": [
    "# What is the difference between the most frequent facilities in high price and low price hotel?"
   ]
  },
  {
   "cell_type": "code",
   "execution_count": 46,
   "id": "ac7955bb",
   "metadata": {},
   "outputs": [
    {
     "name": "stdout",
     "output_type": "stream",
     "text": [
      "[[]]                                     15\n",
      "[['واي, فاي مجاني']]                      8\n",
      "[['غرف, عائلية']]                         7\n",
      "[['مواقف, سيارات مجانية']]                7\n",
      "[['خدمة, الغرف']]                         7\n",
      "[['Free, WiFi']]                          5\n",
      "[['غرف, لغير المدخنين']]                  4\n",
      "[['Non-smoking, rooms']]                  3\n",
      "[['مرافق, لذوي الاحتياجات الخاصة']]       3\n",
      "[['Free, parking']]                       3\n",
      "[['Facilities, for disabled guests']]     3\n",
      "[['مسبح, واحد']]                          3\n",
      "[['مركز, للياقة البدنية']]                2\n",
      "[['مركز, عافية وسبا']]                    2\n",
      "[['مطعم']]                                2\n",
      "[['Room, service']]                       2\n",
      "[['Family, rooms']]                       2\n",
      "[['Parking']]                             2\n",
      "[['Laundry']]                             1\n",
      "[['Airport, shuttle']]                    1\n",
      "[['Elevator']]                            1\n",
      "[['مسبحان']]                              1\n",
      "[['Airport, shuttle (free)']]             1\n",
      "[['مكتب, استقبال على مدار 24 ساعة']]      1\n",
      "Name: facilities, dtype: int64\n"
     ]
    },
    {
     "data": {
      "text/plain": [
       "11.627906976744185"
      ]
     },
     "execution_count": 46,
     "metadata": {},
     "output_type": "execute_result"
    }
   ],
   "source": [
    "print(highprice['facilities'].value_counts())\n",
    "10/86 * 100"
   ]
  },
  {
   "cell_type": "code",
   "execution_count": 47,
   "id": "6938120e",
   "metadata": {},
   "outputs": [
    {
     "name": "stdout",
     "output_type": "stream",
     "text": [
      "[[]]                                     209\n",
      "[['واي, فاي مجاني']]                     122\n",
      "[['مواقف, سيارات مجانية']]               114\n",
      "[['غرف, عائلية']]                        102\n",
      "[['غرف, لغير المدخنين']]                  65\n",
      "[['Non-smoking, rooms']]                  64\n",
      "[['Family, rooms']]                       63\n",
      "[['Free, WiFi']]                          61\n",
      "[['خدمة, الغرف']]                         57\n",
      "[['مرافق, لذوي الاحتياجات الخاصة']]       46\n",
      "[['Free, parking']]                       40\n",
      "[['Facilities, for disabled guests']]     39\n",
      "[['خدمة, نقل المطار']]                    38\n",
      "[['مطعم']]                                31\n",
      "[['Restaurant']]                          31\n",
      "[['Room, service']]                       30\n",
      "[['مركز, للياقة البدنية']]                27\n",
      "[['مكتب, استقبال على مدار 24 ساعة']]      26\n",
      "[['مسبح, واحد']]                          21\n",
      "[['24-hour, front desk']]                 20\n",
      "[['Airport, shuttle']]                    12\n",
      "[['Parking']]                             12\n",
      "[['Elevator']]                             9\n",
      "[['مرافق, غسيل الملابس']]                  8\n",
      "[['مركز, عافية وسبا']]                     6\n",
      "[['بار']]                                  6\n",
      "[['مسبحان']]                               6\n",
      "[['Bar']]                                  5\n",
      "[['موقف, سيارات']]                         5\n",
      "[['Laundry']]                              4\n",
      "[['حديقة']]                                4\n",
      "[['Fitness, center']]                      2\n",
      "[['2, swimming pools']]                    2\n",
      "[['WiFi']]                                 2\n",
      "[['تراس']]                                 2\n",
      "[['1, swimming pool']]                     1\n",
      "[['Airport, shuttle (free)']]              1\n",
      "[['الحيوانات, الأليفة مسموح بها']]         1\n",
      "[['مسبح']]                                 1\n",
      "Name: facilities, dtype: int64\n"
     ]
    },
    {
     "data": {
      "text/plain": [
       "1295"
      ]
     },
     "execution_count": 47,
     "metadata": {},
     "output_type": "execute_result"
    }
   ],
   "source": [
    "print(lowprice['facilities'].value_counts())\n",
    "lowprice['facilities'].shape[0]"
   ]
  },
  {
   "cell_type": "code",
   "execution_count": null,
   "id": "ebdf93b8",
   "metadata": {},
   "outputs": [],
   "source": []
  }
 ],
 "metadata": {
  "kernelspec": {
   "display_name": "Python 3 (ipykernel)",
   "language": "python",
   "name": "python3"
  },
  "language_info": {
   "codemirror_mode": {
    "name": "ipython",
    "version": 3
   },
   "file_extension": ".py",
   "mimetype": "text/x-python",
   "name": "python",
   "nbconvert_exporter": "python",
   "pygments_lexer": "ipython3",
   "version": "3.9.13"
  }
 },
 "nbformat": 4,
 "nbformat_minor": 5
}
