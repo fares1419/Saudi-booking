{
 "cells": [
  {
   "cell_type": "code",
   "execution_count": 11,
   "id": "213bfd5c",
   "metadata": {},
   "outputs": [],
   "source": [
    "import pandas as pd\n",
    "import numpy as np\n",
    "from sklearn.linear_model import LinearRegression\n",
    "import matplotlib.pyplot as plt\n",
    "import plotly.express as ex"
   ]
  },
  {
   "cell_type": "code",
   "execution_count": 12,
   "id": "88124287",
   "metadata": {},
   "outputs": [],
   "source": [
    "df=pd.read_csv('/home/faris/StackOverFlow/calendar.csv')"
   ]
  },
  {
   "cell_type": "code",
   "execution_count": 21,
   "id": "9720ea7e",
   "metadata": {},
   "outputs": [
    {
     "data": {
      "text/html": [
       "<div>\n",
       "<style scoped>\n",
       "    .dataframe tbody tr th:only-of-type {\n",
       "        vertical-align: middle;\n",
       "    }\n",
       "\n",
       "    .dataframe tbody tr th {\n",
       "        vertical-align: top;\n",
       "    }\n",
       "\n",
       "    .dataframe thead th {\n",
       "        text-align: right;\n",
       "    }\n",
       "</style>\n",
       "<table border=\"1\" class=\"dataframe\">\n",
       "  <thead>\n",
       "    <tr style=\"text-align: right;\">\n",
       "      <th></th>\n",
       "      <th>listing_id</th>\n",
       "      <th>available</th>\n",
       "      <th>price</th>\n",
       "      <th>year</th>\n",
       "      <th>month</th>\n",
       "      <th>day</th>\n",
       "    </tr>\n",
       "  </thead>\n",
       "  <tbody>\n",
       "    <tr>\n",
       "      <th>0</th>\n",
       "      <td>12147973</td>\n",
       "      <td>f</td>\n",
       "      <td>NaN</td>\n",
       "      <td>2017</td>\n",
       "      <td>9</td>\n",
       "      <td>5</td>\n",
       "    </tr>\n",
       "    <tr>\n",
       "      <th>1</th>\n",
       "      <td>12147973</td>\n",
       "      <td>f</td>\n",
       "      <td>NaN</td>\n",
       "      <td>2017</td>\n",
       "      <td>9</td>\n",
       "      <td>4</td>\n",
       "    </tr>\n",
       "    <tr>\n",
       "      <th>2</th>\n",
       "      <td>12147973</td>\n",
       "      <td>f</td>\n",
       "      <td>NaN</td>\n",
       "      <td>2017</td>\n",
       "      <td>9</td>\n",
       "      <td>3</td>\n",
       "    </tr>\n",
       "    <tr>\n",
       "      <th>3</th>\n",
       "      <td>12147973</td>\n",
       "      <td>f</td>\n",
       "      <td>NaN</td>\n",
       "      <td>2017</td>\n",
       "      <td>9</td>\n",
       "      <td>2</td>\n",
       "    </tr>\n",
       "    <tr>\n",
       "      <th>4</th>\n",
       "      <td>12147973</td>\n",
       "      <td>f</td>\n",
       "      <td>NaN</td>\n",
       "      <td>2017</td>\n",
       "      <td>9</td>\n",
       "      <td>1</td>\n",
       "    </tr>\n",
       "    <tr>\n",
       "      <th>...</th>\n",
       "      <td>...</td>\n",
       "      <td>...</td>\n",
       "      <td>...</td>\n",
       "      <td>...</td>\n",
       "      <td>...</td>\n",
       "      <td>...</td>\n",
       "    </tr>\n",
       "    <tr>\n",
       "      <th>1308885</th>\n",
       "      <td>14504422</td>\n",
       "      <td>f</td>\n",
       "      <td>NaN</td>\n",
       "      <td>2016</td>\n",
       "      <td>9</td>\n",
       "      <td>10</td>\n",
       "    </tr>\n",
       "    <tr>\n",
       "      <th>1308886</th>\n",
       "      <td>14504422</td>\n",
       "      <td>f</td>\n",
       "      <td>NaN</td>\n",
       "      <td>2016</td>\n",
       "      <td>9</td>\n",
       "      <td>9</td>\n",
       "    </tr>\n",
       "    <tr>\n",
       "      <th>1308887</th>\n",
       "      <td>14504422</td>\n",
       "      <td>f</td>\n",
       "      <td>NaN</td>\n",
       "      <td>2016</td>\n",
       "      <td>9</td>\n",
       "      <td>8</td>\n",
       "    </tr>\n",
       "    <tr>\n",
       "      <th>1308888</th>\n",
       "      <td>14504422</td>\n",
       "      <td>f</td>\n",
       "      <td>NaN</td>\n",
       "      <td>2016</td>\n",
       "      <td>9</td>\n",
       "      <td>7</td>\n",
       "    </tr>\n",
       "    <tr>\n",
       "      <th>1308889</th>\n",
       "      <td>14504422</td>\n",
       "      <td>f</td>\n",
       "      <td>NaN</td>\n",
       "      <td>2016</td>\n",
       "      <td>9</td>\n",
       "      <td>6</td>\n",
       "    </tr>\n",
       "  </tbody>\n",
       "</table>\n",
       "<p>1308890 rows × 6 columns</p>\n",
       "</div>"
      ],
      "text/plain": [
       "         listing_id available  price  year  month  day\n",
       "0          12147973         f    NaN  2017      9    5\n",
       "1          12147973         f    NaN  2017      9    4\n",
       "2          12147973         f    NaN  2017      9    3\n",
       "3          12147973         f    NaN  2017      9    2\n",
       "4          12147973         f    NaN  2017      9    1\n",
       "...             ...       ...    ...   ...    ...  ...\n",
       "1308885    14504422         f    NaN  2016      9   10\n",
       "1308886    14504422         f    NaN  2016      9    9\n",
       "1308887    14504422         f    NaN  2016      9    8\n",
       "1308888    14504422         f    NaN  2016      9    7\n",
       "1308889    14504422         f    NaN  2016      9    6\n",
       "\n",
       "[1308890 rows x 6 columns]"
      ]
     },
     "execution_count": 21,
     "metadata": {},
     "output_type": "execute_result"
    }
   ],
   "source": [
    "rows=df.shape[0]\n",
    "columns=df.shape[1]\n",
    "df"
   ]
  },
  {
   "cell_type": "code",
   "execution_count": 14,
   "id": "bd0a057a",
   "metadata": {},
   "outputs": [
    {
     "name": "stderr",
     "output_type": "stream",
     "text": [
      "/tmp/ipykernel_1110459/1365348120.py:1: FutureWarning: The default value of regex will change from True to False in a future version. In addition, single character regular expressions will *not* be treated as literal strings when regex=True.\n",
      "  df['price']=df['price'].str.replace('$','').str.replace(\",\",\"\")\n"
     ]
    }
   ],
   "source": [
    "df['price']=df['price'].str.replace('$','').str.replace(\",\",\"\")\n",
    "df['price']=df['price'].astype(float)\n",
    "df[['year', 'month','day']] = df.date.str.split(\"-\", expand = True)\n",
    "df['year']=df['year'].astype(int)\n",
    "df['month']=df['month'].astype(int)\n",
    "df['day']=df['day'].astype(int)\n",
    "df=df.drop('date',axis=1)"
   ]
  },
  {
   "cell_type": "code",
   "execution_count": 15,
   "id": "6efe9d9a",
   "metadata": {},
   "outputs": [
    {
     "data": {
      "text/plain": [
       "0         NaN\n",
       "1         NaN\n",
       "2         NaN\n",
       "3         NaN\n",
       "4         NaN\n",
       "           ..\n",
       "1308885   NaN\n",
       "1308886   NaN\n",
       "1308887   NaN\n",
       "1308888   NaN\n",
       "1308889   NaN\n",
       "Name: price, Length: 1308890, dtype: float64"
      ]
     },
     "execution_count": 15,
     "metadata": {},
     "output_type": "execute_result"
    }
   ],
   "source": [
    "df['price']\n",
    "# Since the data is big and the nulls also, I will try to  drop nulls."
   ]
  },
  {
   "cell_type": "code",
   "execution_count": 16,
   "id": "f37dbb44",
   "metadata": {},
   "outputs": [
    {
     "data": {
      "text/plain": [
       "1     63181\n",
       "12    60997\n",
       "11    58888\n",
       "2     56810\n",
       "8     55561\n",
       "3     55181\n",
       "7     54963\n",
       "5     53600\n",
       "6     52731\n",
       "4     51382\n",
       "10    46345\n",
       "9     33398\n",
       "Name: month, dtype: int64"
      ]
     },
     "execution_count": 16,
     "metadata": {},
     "output_type": "execute_result"
    },
    {
     "data": {
      "image/png": "[encoded data removed]",
      "text/plain": [
       "<Figure size 640x480 with 1 Axes>"
      ]
     },
     "metadata": {},
     "output_type": "display_data"
    }
   ],
   "source": [
    "# After dropping null values.\n",
    "nulldrop=df.copy()\n",
    "nulldrop.dropna(inplace=True)\n",
    "plt.hist(nulldrop['month'])\n",
    "\n",
    "nulldrop.month.value_counts()\n",
    "# we can see the most booked months are in holiday season"
   ]
  },
  {
   "cell_type": "code",
   "execution_count": 17,
   "id": "c860a501",
   "metadata": {},
   "outputs": [
    {
     "data": {
      "text/html": [
       "<div>\n",
       "<style scoped>\n",
       "    .dataframe tbody tr th:only-of-type {\n",
       "        vertical-align: middle;\n",
       "    }\n",
       "\n",
       "    .dataframe tbody tr th {\n",
       "        vertical-align: top;\n",
       "    }\n",
       "\n",
       "    .dataframe thead th {\n",
       "        text-align: right;\n",
       "    }\n",
       "</style>\n",
       "<table border=\"1\" class=\"dataframe\">\n",
       "  <thead>\n",
       "    <tr style=\"text-align: right;\">\n",
       "      <th></th>\n",
       "      <th>listing_id</th>\n",
       "      <th>available</th>\n",
       "      <th>price</th>\n",
       "      <th>year</th>\n",
       "      <th>month</th>\n",
       "      <th>day</th>\n",
       "    </tr>\n",
       "  </thead>\n",
       "  <tbody>\n",
       "  </tbody>\n",
       "</table>\n",
       "</div>"
      ],
      "text/plain": [
       "Empty DataFrame\n",
       "Columns: [listing_id, available, price, year, month, day]\n",
       "Index: []"
      ]
     },
     "execution_count": 17,
     "metadata": {},
     "output_type": "execute_result"
    }
   ],
   "source": [
    "mostbooked=nulldrop[ (nulldrop['month']==1) | ( nulldrop['month']==12)  | ( nulldrop['month']==11)]\n",
    "othermonths =nulldrop[(nulldrop['month']!=1) & ( nulldrop['month']!=12) & ( nulldrop['month']!=11) ]\n",
    "nulldrop[nulldrop['available']=='f']\n"
   ]
  },
  {
   "cell_type": "code",
   "execution_count": 18,
   "id": "19b46129",
   "metadata": {},
   "outputs": [
    {
     "data": {
      "text/plain": [
       "8     111166\n",
       "1     111166\n",
       "12    111166\n",
       "10    111166\n",
       "7     111166\n",
       "5     111166\n",
       "3     111166\n",
       "9     107580\n",
       "11    107580\n",
       "6     107580\n",
       "4     107580\n",
       "2     100408\n",
       "Name: month, dtype: int64"
      ]
     },
     "execution_count": 18,
     "metadata": {},
     "output_type": "execute_result"
    }
   ],
   "source": [
    "# the null values for price because it is not available, \n",
    "#so it was wrong to drop it since the (f) in available column be loost\n",
    "#instead i will fill it with zeros\n",
    "fillingbyzeros=df.copy()\n",
    "fillingbyzeros['price']=fillingbyzeros['price'].fillna(0)\n"
   ]
  },
  {
   "cell_type": "code",
   "execution_count": 22,
   "id": "d6f86145",
   "metadata": {},
   "outputs": [
    {
     "data": {
      "text/plain": [
       "8     111166\n",
       "1     111166\n",
       "12    111166\n",
       "10    111166\n",
       "7     111166\n",
       "5     111166\n",
       "3     111166\n",
       "9     107580\n",
       "11    107580\n",
       "6     107580\n",
       "4     107580\n",
       "2     100408\n",
       "Name: month, dtype: int64"
      ]
     },
     "execution_count": 22,
     "metadata": {},
     "output_type": "execute_result"
    },
    {
     "data": {
      "image/png": "[encoded data removed]",
      "text/plain": [
       "<Figure size 640x480 with 1 Axes>"
      ]
     },
     "metadata": {},
     "output_type": "display_data"
    }
   ],
   "source": [
    "\n",
    "plt.hist(fillingbyzeros['month'])\n",
    "\n",
    "fillingbyzeros.month.value_counts()\n",
    "# we can see the most booked months are in holiday season in USA (12 to 1)"
   ]
  },
  {
   "cell_type": "code",
   "execution_count": null,
   "id": "c01c94df",
   "metadata": {},
   "outputs": [],
   "source": []
  },
  {
   "cell_type": "code",
   "execution_count": 26,
   "id": "a1cb2bed",
   "metadata": {},
   "outputs": [
    {
     "name": "stdout",
     "output_type": "stream",
     "text": [
      "183066\n",
      "459971\n",
      "192.53940109031714\n",
      "200.78688221648756\n",
      "161.62615598071304\n",
      "186.95148437262247\n"
     ]
    }
   ],
   "source": [
    "mostbooked=fillingbyzeros[ (fillingbyzeros['month']==1) | ( fillingbyzeros['month']==12)  | ( fillingbyzeros['month']==11)]\n",
    "\n",
    "othermonths =fillingbyzeros[(fillingbyzeros['month']!=1) & ( fillingbyzeros['month']!=12) & ( fillingbyzeros['month']!=11) ]\n",
    "#How many rooms are available in most booked month?\n",
    "print(mostbooked[mostbooked['available']=='t'].shape[0])\n",
    "#How many rooms are available in other months?\n",
    "print(othermonths[othermonths['available']=='t'].shape[0])\n",
    "# Average price in most booked months\n",
    "\n",
    "print(mostbooked[mostbooked['available']=='t']['price'].mean())\n",
    "\n",
    "# Average price in the other months\n",
    "print(othermonths[othermonths['available']=='t']['price'].mean())\n",
    "# standard deviation in most booked months\n",
    "\n",
    "print(mostbooked[mostbooked['available']=='t']['price'].std())\n",
    "# standard deviation in other months\n",
    "print(othermonths[othermonths['available']=='t']['price'].std())"
   ]
  },
  {
   "cell_type": "code",
   "execution_count": null,
   "id": "90ff6795",
   "metadata": {},
   "outputs": [],
   "source": [
    "\n",
    "# the range of the price is different in the most boooked month less then other months "
   ]
  },
  {
   "cell_type": "code",
   "execution_count": 28,
   "id": "47348fab",
   "metadata": {},
   "outputs": [
    {
     "data": {
      "text/plain": [
       "(array([129096., 129096., 129096., 129096., 129096., 129096., 129096.,\n",
       "        129096., 129096., 147026.]),\n",
       " array([ 1.,  4.,  7., 10., 13., 16., 19., 22., 25., 28., 31.]),\n",
       " <BarContainer object of 10 artists>)"
      ]
     },
     "execution_count": 28,
     "metadata": {},
     "output_type": "execute_result"
    },
    {
     "data": {
      "image/png": "[encoded data removed]",
      "text/plain": [
       "<Figure size 640x480 with 1 Axes>"
      ]
     },
     "metadata": {},
     "output_type": "display_data"
    }
   ],
   "source": [
    "\n",
    "plt.hist(fillingbyzeros['day'])\n"
   ]
  },
  {
   "cell_type": "code",
   "execution_count": null,
   "id": "0cc276e9",
   "metadata": {},
   "outputs": [],
   "source": [
    "# there is not a big influence of day on the booking, except in the last month"
   ]
  }
 ],
 "metadata": {
  "kernelspec": {
   "display_name": "Python 3 (ipykernel)",
   "language": "python",
   "name": "python3"
  },
  "language_info": {
   "codemirror_mode": {
    "name": "ipython",
    "version": 3
   },
   "file_extension": ".py",
   "mimetype": "text/x-python",
   "name": "python",
   "nbconvert_exporter": "python",
   "pygments_lexer": "ipython3",
   "version": "3.9.13"
  }
 },
 "nbformat": 4,
 "nbformat_minor": 5
}
