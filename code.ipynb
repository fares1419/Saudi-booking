{
 "cells": [
  {
   "cell_type": "code",
   "execution_count": 1,
   "id": "6f07ba3a",
   "metadata": {},
   "outputs": [],
   "source": [
    "import pandas as pd\n",
    "import numpy as np\n",
    "from sklearn.linear_model import LinearRegression\n",
    "import matplotlib.pyplot as plt\n",
    "import plotly.express as ex"
   ]
  },
  {
   "cell_type": "code",
   "execution_count": 2,
   "id": "c385584d",
   "metadata": {},
   "outputs": [],
   "source": [
    "df=pd.read_csv('/home/faris/StackOverFlow/calendar.csv')"
   ]
  },
  {
   "cell_type": "code",
   "execution_count": 3,
   "id": "7f492633",
   "metadata": {},
   "outputs": [
    {
     "data": {
      "text/html": [
       "<div>\n",
       "<style scoped>\n",
       "    .dataframe tbody tr th:only-of-type {\n",
       "        vertical-align: middle;\n",
       "    }\n",
       "\n",
       "    .dataframe tbody tr th {\n",
       "        vertical-align: top;\n",
       "    }\n",
       "\n",
       "    .dataframe thead th {\n",
       "        text-align: right;\n",
       "    }\n",
       "</style>\n",
       "<table border=\"1\" class=\"dataframe\">\n",
       "  <thead>\n",
       "    <tr style=\"text-align: right;\">\n",
       "      <th></th>\n",
       "      <th>listing_id</th>\n",
       "      <th>date</th>\n",
       "      <th>available</th>\n",
       "      <th>price</th>\n",
       "    </tr>\n",
       "  </thead>\n",
       "  <tbody>\n",
       "    <tr>\n",
       "      <th>0</th>\n",
       "      <td>12147973</td>\n",
       "      <td>2017-09-05</td>\n",
       "      <td>f</td>\n",
       "      <td>NaN</td>\n",
       "    </tr>\n",
       "    <tr>\n",
       "      <th>1</th>\n",
       "      <td>12147973</td>\n",
       "      <td>2017-09-04</td>\n",
       "      <td>f</td>\n",
       "      <td>NaN</td>\n",
       "    </tr>\n",
       "    <tr>\n",
       "      <th>2</th>\n",
       "      <td>12147973</td>\n",
       "      <td>2017-09-03</td>\n",
       "      <td>f</td>\n",
       "      <td>NaN</td>\n",
       "    </tr>\n",
       "    <tr>\n",
       "      <th>3</th>\n",
       "      <td>12147973</td>\n",
       "      <td>2017-09-02</td>\n",
       "      <td>f</td>\n",
       "      <td>NaN</td>\n",
       "    </tr>\n",
       "    <tr>\n",
       "      <th>4</th>\n",
       "      <td>12147973</td>\n",
       "      <td>2017-09-01</td>\n",
       "      <td>f</td>\n",
       "      <td>NaN</td>\n",
       "    </tr>\n",
       "    <tr>\n",
       "      <th>...</th>\n",
       "      <td>...</td>\n",
       "      <td>...</td>\n",
       "      <td>...</td>\n",
       "      <td>...</td>\n",
       "    </tr>\n",
       "    <tr>\n",
       "      <th>1308885</th>\n",
       "      <td>14504422</td>\n",
       "      <td>2016-09-10</td>\n",
       "      <td>f</td>\n",
       "      <td>NaN</td>\n",
       "    </tr>\n",
       "    <tr>\n",
       "      <th>1308886</th>\n",
       "      <td>14504422</td>\n",
       "      <td>2016-09-09</td>\n",
       "      <td>f</td>\n",
       "      <td>NaN</td>\n",
       "    </tr>\n",
       "    <tr>\n",
       "      <th>1308887</th>\n",
       "      <td>14504422</td>\n",
       "      <td>2016-09-08</td>\n",
       "      <td>f</td>\n",
       "      <td>NaN</td>\n",
       "    </tr>\n",
       "    <tr>\n",
       "      <th>1308888</th>\n",
       "      <td>14504422</td>\n",
       "      <td>2016-09-07</td>\n",
       "      <td>f</td>\n",
       "      <td>NaN</td>\n",
       "    </tr>\n",
       "    <tr>\n",
       "      <th>1308889</th>\n",
       "      <td>14504422</td>\n",
       "      <td>2016-09-06</td>\n",
       "      <td>f</td>\n",
       "      <td>NaN</td>\n",
       "    </tr>\n",
       "  </tbody>\n",
       "</table>\n",
       "<p>1308890 rows × 4 columns</p>\n",
       "</div>"
      ],
      "text/plain": [
       "         listing_id        date available price\n",
       "0          12147973  2017-09-05         f   NaN\n",
       "1          12147973  2017-09-04         f   NaN\n",
       "2          12147973  2017-09-03         f   NaN\n",
       "3          12147973  2017-09-02         f   NaN\n",
       "4          12147973  2017-09-01         f   NaN\n",
       "...             ...         ...       ...   ...\n",
       "1308885    14504422  2016-09-10         f   NaN\n",
       "1308886    14504422  2016-09-09         f   NaN\n",
       "1308887    14504422  2016-09-08         f   NaN\n",
       "1308888    14504422  2016-09-07         f   NaN\n",
       "1308889    14504422  2016-09-06         f   NaN\n",
       "\n",
       "[1308890 rows x 4 columns]"
      ]
     },
     "execution_count": 3,
     "metadata": {},
     "output_type": "execute_result"
    }
   ],
   "source": [
    "rows=df.shape[0]\n",
    "columns=df.shape[1]\n",
    "df"
   ]
  },
  {
   "cell_type": "code",
   "execution_count": 4,
   "id": "ca143a77",
   "metadata": {},
   "outputs": [
    {
     "name": "stderr",
     "output_type": "stream",
     "text": [
      "/tmp/ipykernel_1097939/76871987.py:1: FutureWarning: The default value of regex will change from True to False in a future version. In addition, single character regular expressions will *not* be treated as literal strings when regex=True.\n",
      "  df['price']=df['price'].str.replace('$','').str.replace(\",\",\"\")\n"
     ]
    }
   ],
   "source": [
    "df['price']=df['price'].str.replace('$','').str.replace(\",\",\"\")\n",
    "df['price']=df['price'].astype(float)"
   ]
  },
  {
   "cell_type": "code",
   "execution_count": 5,
   "id": "dbd85e6e",
   "metadata": {},
   "outputs": [
    {
     "data": {
      "text/plain": [
       "0         NaN\n",
       "1         NaN\n",
       "2         NaN\n",
       "3         NaN\n",
       "4         NaN\n",
       "           ..\n",
       "1308885   NaN\n",
       "1308886   NaN\n",
       "1308887   NaN\n",
       "1308888   NaN\n",
       "1308889   NaN\n",
       "Name: price, Length: 1308890, dtype: float64"
      ]
     },
     "execution_count": 5,
     "metadata": {},
     "output_type": "execute_result"
    }
   ],
   "source": [
    "df['price']"
   ]
  },
  {
   "cell_type": "code",
   "execution_count": 6,
   "id": "4a809171",
   "metadata": {},
   "outputs": [],
   "source": [
    "df2=pd.get_dummies(data=df,columns=['date','available'])"
   ]
  },
  {
   "cell_type": "code",
   "execution_count": 7,
   "id": "821de33f",
   "metadata": {},
   "outputs": [],
   "source": [
    "testdata=df[df['price'].isnull()]\n",
    "testdata2=df2[df2['price'].isnull()]"
   ]
  },
  {
   "cell_type": "code",
   "execution_count": 8,
   "id": "1355af66",
   "metadata": {},
   "outputs": [],
   "source": [
    "df.dropna(inplace=True)\n",
    "df2.dropna(inplace=True)\n",
    "x_train=df2.drop('price',axis=1)\n",
    "y_train=df2['price']"
   ]
  },
  {
   "cell_type": "code",
   "execution_count": 9,
   "id": "8fa3f5bf",
   "metadata": {},
   "outputs": [],
   "source": [
    "model=LinearRegression()"
   ]
  },
  {
   "cell_type": "code",
   "execution_count": 10,
   "id": "dc0ceb11",
   "metadata": {},
   "outputs": [
    {
     "data": {
      "text/plain": [
       "LinearRegression()"
      ]
     },
     "execution_count": 10,
     "metadata": {},
     "output_type": "execute_result"
    }
   ],
   "source": [
    "model.fit(x_train,y_train)"
   ]
  },
  {
   "cell_type": "code",
   "execution_count": 11,
   "id": "2c4971aa",
   "metadata": {},
   "outputs": [],
   "source": [
    "x_test=testdata2.drop('price',axis=1)"
   ]
  },
  {
   "cell_type": "code",
   "execution_count": 12,
   "id": "d1654049",
   "metadata": {},
   "outputs": [
    {
     "data": {
      "text/plain": [
       "(665853,)"
      ]
     },
     "execution_count": 12,
     "metadata": {},
     "output_type": "execute_result"
    }
   ],
   "source": [
    "y_pred=model.predict(x_test)\n",
    "y_pred.shape"
   ]
  },
  {
   "cell_type": "code",
   "execution_count": 13,
   "id": "5e3903a8",
   "metadata": {},
   "outputs": [
    {
     "name": "stderr",
     "output_type": "stream",
     "text": [
      "/tmp/ipykernel_1097939/18832366.py:1: SettingWithCopyWarning: \n",
      "A value is trying to be set on a copy of a slice from a DataFrame.\n",
      "Try using .loc[row_indexer,col_indexer] = value instead\n",
      "\n",
      "See the caveats in the documentation: https://pandas.pydata.org/pandas-docs/stable/user_guide/indexing.html#returning-a-view-versus-a-copy\n",
      "  testdata['price']=y_pred\n"
     ]
    }
   ],
   "source": [
    "testdata['price']=y_pred"
   ]
  },
  {
   "cell_type": "code",
   "execution_count": 15,
   "id": "e6817832",
   "metadata": {},
   "outputs": [
    {
     "name": "stderr",
     "output_type": "stream",
     "text": [
      "/tmp/ipykernel_1097939/229681267.py:1: FutureWarning: The frame.append method is deprecated and will be removed from pandas in a future version. Use pandas.concat instead.\n",
      "  df=df.append(testdata)\n"
     ]
    }
   ],
   "source": [
    "df=df.append(testdata)"
   ]
  },
  {
   "cell_type": "code",
   "execution_count": 17,
   "id": "f72e2a57",
   "metadata": {},
   "outputs": [
    {
     "data": {
      "text/html": [
       "<div>\n",
       "<style scoped>\n",
       "    .dataframe tbody tr th:only-of-type {\n",
       "        vertical-align: middle;\n",
       "    }\n",
       "\n",
       "    .dataframe tbody tr th {\n",
       "        vertical-align: top;\n",
       "    }\n",
       "\n",
       "    .dataframe thead th {\n",
       "        text-align: right;\n",
       "    }\n",
       "</style>\n",
       "<table border=\"1\" class=\"dataframe\">\n",
       "  <thead>\n",
       "    <tr style=\"text-align: right;\">\n",
       "      <th></th>\n",
       "      <th>listing_id</th>\n",
       "      <th>date</th>\n",
       "      <th>available</th>\n",
       "      <th>price</th>\n",
       "      <th>year</th>\n",
       "      <th>month</th>\n",
       "      <th>day</th>\n",
       "    </tr>\n",
       "  </thead>\n",
       "  <tbody>\n",
       "    <tr>\n",
       "      <th>365</th>\n",
       "      <td>3075044</td>\n",
       "      <td>2017-08-22</td>\n",
       "      <td>t</td>\n",
       "      <td>65.000000</td>\n",
       "      <td>2017</td>\n",
       "      <td>08</td>\n",
       "      <td>22</td>\n",
       "    </tr>\n",
       "    <tr>\n",
       "      <th>366</th>\n",
       "      <td>3075044</td>\n",
       "      <td>2017-08-21</td>\n",
       "      <td>t</td>\n",
       "      <td>65.000000</td>\n",
       "      <td>2017</td>\n",
       "      <td>08</td>\n",
       "      <td>21</td>\n",
       "    </tr>\n",
       "    <tr>\n",
       "      <th>367</th>\n",
       "      <td>3075044</td>\n",
       "      <td>2017-08-20</td>\n",
       "      <td>t</td>\n",
       "      <td>65.000000</td>\n",
       "      <td>2017</td>\n",
       "      <td>08</td>\n",
       "      <td>20</td>\n",
       "    </tr>\n",
       "    <tr>\n",
       "      <th>368</th>\n",
       "      <td>3075044</td>\n",
       "      <td>2017-08-19</td>\n",
       "      <td>t</td>\n",
       "      <td>75.000000</td>\n",
       "      <td>2017</td>\n",
       "      <td>08</td>\n",
       "      <td>19</td>\n",
       "    </tr>\n",
       "    <tr>\n",
       "      <th>369</th>\n",
       "      <td>3075044</td>\n",
       "      <td>2017-08-18</td>\n",
       "      <td>t</td>\n",
       "      <td>75.000000</td>\n",
       "      <td>2017</td>\n",
       "      <td>08</td>\n",
       "      <td>18</td>\n",
       "    </tr>\n",
       "    <tr>\n",
       "      <th>...</th>\n",
       "      <td>...</td>\n",
       "      <td>...</td>\n",
       "      <td>...</td>\n",
       "      <td>...</td>\n",
       "      <td>...</td>\n",
       "      <td>...</td>\n",
       "      <td>...</td>\n",
       "    </tr>\n",
       "    <tr>\n",
       "      <th>1308885</th>\n",
       "      <td>14504422</td>\n",
       "      <td>2016-09-10</td>\n",
       "      <td>f</td>\n",
       "      <td>259.231692</td>\n",
       "      <td>2016</td>\n",
       "      <td>09</td>\n",
       "      <td>10</td>\n",
       "    </tr>\n",
       "    <tr>\n",
       "      <th>1308886</th>\n",
       "      <td>14504422</td>\n",
       "      <td>2016-09-09</td>\n",
       "      <td>f</td>\n",
       "      <td>254.396457</td>\n",
       "      <td>2016</td>\n",
       "      <td>09</td>\n",
       "      <td>09</td>\n",
       "    </tr>\n",
       "    <tr>\n",
       "      <th>1308887</th>\n",
       "      <td>14504422</td>\n",
       "      <td>2016-09-08</td>\n",
       "      <td>f</td>\n",
       "      <td>244.227741</td>\n",
       "      <td>2016</td>\n",
       "      <td>09</td>\n",
       "      <td>08</td>\n",
       "    </tr>\n",
       "    <tr>\n",
       "      <th>1308888</th>\n",
       "      <td>14504422</td>\n",
       "      <td>2016-09-07</td>\n",
       "      <td>f</td>\n",
       "      <td>244.064262</td>\n",
       "      <td>2016</td>\n",
       "      <td>09</td>\n",
       "      <td>07</td>\n",
       "    </tr>\n",
       "    <tr>\n",
       "      <th>1308889</th>\n",
       "      <td>14504422</td>\n",
       "      <td>2016-09-06</td>\n",
       "      <td>f</td>\n",
       "      <td>232.618748</td>\n",
       "      <td>2016</td>\n",
       "      <td>09</td>\n",
       "      <td>06</td>\n",
       "    </tr>\n",
       "  </tbody>\n",
       "</table>\n",
       "<p>1308890 rows × 7 columns</p>\n",
       "</div>"
      ],
      "text/plain": [
       "         listing_id        date available       price  year month day\n",
       "365         3075044  2017-08-22         t   65.000000  2017    08  22\n",
       "366         3075044  2017-08-21         t   65.000000  2017    08  21\n",
       "367         3075044  2017-08-20         t   65.000000  2017    08  20\n",
       "368         3075044  2017-08-19         t   75.000000  2017    08  19\n",
       "369         3075044  2017-08-18         t   75.000000  2017    08  18\n",
       "...             ...         ...       ...         ...   ...   ...  ..\n",
       "1308885    14504422  2016-09-10         f  259.231692  2016    09  10\n",
       "1308886    14504422  2016-09-09         f  254.396457  2016    09  09\n",
       "1308887    14504422  2016-09-08         f  244.227741  2016    09  08\n",
       "1308888    14504422  2016-09-07         f  244.064262  2016    09  07\n",
       "1308889    14504422  2016-09-06         f  232.618748  2016    09  06\n",
       "\n",
       "[1308890 rows x 7 columns]"
      ]
     },
     "execution_count": 17,
     "metadata": {},
     "output_type": "execute_result"
    }
   ],
   "source": [
    "df[['year', 'month','day']] = df.date.str.split(\"-\", expand = True)\n",
    "df"
   ]
  },
  {
   "cell_type": "code",
   "execution_count": 19,
   "id": "32d00d00",
   "metadata": {},
   "outputs": [
    {
     "data": {
      "text/plain": [
       "(array([222332., 107580., 111166., 107580., 111166., 100408., 107580.,\n",
       "        111166., 111166., 218746.]),\n",
       " array([ 0. ,  1.1,  2.2,  3.3,  4.4,  5.5,  6.6,  7.7,  8.8,  9.9, 11. ]),\n",
       " <BarContainer object of 10 artists>)"
      ]
     },
     "execution_count": 19,
     "metadata": {},
     "output_type": "execute_result"
    },
    {
     "data": {
      "image/png": "[encoded data removed]",
      "text/plain": [
       "<Figure size 640x480 with 1 Axes>"
      ]
     },
     "metadata": {},
     "output_type": "display_data"
    }
   ],
   "source": [
    "plt.hist(df['month'])"
   ]
  },
  {
   "cell_type": "code",
   "execution_count": null,
   "id": "9ad18b23",
   "metadata": {},
   "outputs": [],
   "source": []
  }
 ],
 "metadata": {
  "kernelspec": {
   "display_name": "Python 3 (ipykernel)",
   "language": "python",
   "name": "python3"
  },
  "language_info": {
   "codemirror_mode": {
    "name": "ipython",
    "version": 3
   },
   "file_extension": ".py",
   "mimetype": "text/x-python",
   "name": "python",
   "nbconvert_exporter": "python",
   "pygments_lexer": "ipython3",
   "version": "3.9.13"
  }
 },
 "nbformat": 4,
 "nbformat_minor": 5
}
