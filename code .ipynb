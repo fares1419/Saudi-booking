{
 "cells": [
  {
   "cell_type": "code",
   "execution_count": 1,
   "id": "06d2438e",
   "metadata": {},
   "outputs": [],
   "source": [
    "import pandas as pd\n",
    "import numpy as np\n",
    "from sklearn.linear_model import LinearRegression\n",
    "import matplotlib.pyplot as plt\n",
    "import plotly.express as ex"
   ]
  },
  {
   "cell_type": "code",
   "execution_count": 2,
   "id": "e19ae2b3",
   "metadata": {},
   "outputs": [],
   "source": [
    "df=pd.read_csv('/home/faris/StackOverFlow/booking_saudi_cities_cleaned.csv')"
   ]
  },
  {
   "cell_type": "code",
   "execution_count": 3,
   "id": "406bb77a",
   "metadata": {},
   "outputs": [
    {
     "data": {
      "text/plain": [
       "0"
      ]
     },
     "execution_count": 3,
     "metadata": {},
     "output_type": "execute_result"
    }
   ],
   "source": [
    "#check for dublicate rows\n",
    "sum(df.duplicated())\n"
   ]
  },
  {
   "cell_type": "code",
   "execution_count": 4,
   "id": "a412ddf4",
   "metadata": {},
   "outputs": [
    {
     "name": "stdout",
     "output_type": "stream",
     "text": [
      "<class 'pandas.core.frame.DataFrame'>\n",
      "RangeIndex: 1389 entries, 0 to 1388\n",
      "Data columns (total 9 columns):\n",
      " #   Column                Non-Null Count  Dtype  \n",
      "---  ------                --------------  -----  \n",
      " 0   Unnamed: 0            1389 non-null   int64  \n",
      " 1   Hotel_name            1389 non-null   object \n",
      " 2   Are                   1389 non-null   object \n",
      " 3    Review               1389 non-null   float64\n",
      " 4    price                1389 non-null   object \n",
      " 5   url                   1389 non-null   object \n",
      " 6   facilities            1389 non-null   object \n",
      " 7   checklist_facilities  1389 non-null   object \n",
      " 8   city                  1389 non-null   object \n",
      "dtypes: float64(1), int64(1), object(7)\n",
      "memory usage: 97.8+ KB\n"
     ]
    }
   ],
   "source": [
    "df.info()"
   ]
  },
  {
   "cell_type": "code",
   "execution_count": 5,
   "id": "b8927369",
   "metadata": {},
   "outputs": [
    {
     "name": "stdout",
     "output_type": "stream",
     "text": [
      "1389\n",
      "9\n"
     ]
    }
   ],
   "source": [
    "#Exloration data\n",
    "print(df.shape[0])\n",
    "print(df.shape[1])"
   ]
  },
  {
   "cell_type": "code",
   "execution_count": 6,
   "id": "445456c9",
   "metadata": {},
   "outputs": [
    {
     "data": {
      "text/plain": [
       "Unnamed: 0              0\n",
       "Hotel_name              0\n",
       "Are                     0\n",
       " Review                 0\n",
       " price                  0\n",
       "url                     0\n",
       "facilities              0\n",
       "checklist_facilities    0\n",
       "city                    0\n",
       "dtype: int64"
      ]
     },
     "execution_count": 6,
     "metadata": {},
     "output_type": "execute_result"
    }
   ],
   "source": [
    "#check for nulls\n",
    "df.isnull().sum()"
   ]
  },
  {
   "cell_type": "code",
   "execution_count": 7,
   "id": "345605a1",
   "metadata": {},
   "outputs": [
    {
     "data": {
      "text/html": [
       "<div>\n",
       "<style scoped>\n",
       "    .dataframe tbody tr th:only-of-type {\n",
       "        vertical-align: middle;\n",
       "    }\n",
       "\n",
       "    .dataframe tbody tr th {\n",
       "        vertical-align: top;\n",
       "    }\n",
       "\n",
       "    .dataframe thead th {\n",
       "        text-align: right;\n",
       "    }\n",
       "</style>\n",
       "<table border=\"1\" class=\"dataframe\">\n",
       "  <thead>\n",
       "    <tr style=\"text-align: right;\">\n",
       "      <th></th>\n",
       "      <th>Unnamed: 0</th>\n",
       "      <th>Hotel_name</th>\n",
       "      <th>Are</th>\n",
       "      <th>Review</th>\n",
       "      <th>price</th>\n",
       "      <th>url</th>\n",
       "      <th>facilities</th>\n",
       "      <th>checklist_facilities</th>\n",
       "      <th>city</th>\n",
       "    </tr>\n",
       "  </thead>\n",
       "  <tbody>\n",
       "    <tr>\n",
       "      <th>0</th>\n",
       "      <td>0</td>\n",
       "      <td>Madinah Mövenpick Hotel</td>\n",
       "      <td>350 m from center</td>\n",
       "      <td>7.6</td>\n",
       "      <td>599</td>\n",
       "      <td>https://booking.com/hotel/sa/madinah-movenpick...</td>\n",
       "      <td>[]</td>\n",
       "      <td>['Pets:Pets are not allowed.:', 'Food &amp;amp; Dr...</td>\n",
       "      <td>Madinah</td>\n",
       "    </tr>\n",
       "    <tr>\n",
       "      <th>1</th>\n",
       "      <td>1</td>\n",
       "      <td>Dar Al Hijra InterContinental</td>\n",
       "      <td>750 m from center</td>\n",
       "      <td>7.9</td>\n",
       "      <td>618</td>\n",
       "      <td>https://booking.com/hotel/sa/dar-al-hijra-inte...</td>\n",
       "      <td>['Family rooms']</td>\n",
       "      <td>['Outdoors:Outdoor furniture:', 'Pets:Pets are...</td>\n",
       "      <td>Madinah</td>\n",
       "    </tr>\n",
       "    <tr>\n",
       "      <th>2</th>\n",
       "      <td>2</td>\n",
       "      <td>Al Madinah Harmony Hotel</td>\n",
       "      <td>750 m from center</td>\n",
       "      <td>7.2</td>\n",
       "      <td>440</td>\n",
       "      <td>https://booking.com/hotel/sa/al-madinah-harmon...</td>\n",
       "      <td>['Free WiFi']</td>\n",
       "      <td>['Pets:Pets are not allowed.:', \"Food &amp;amp; Dr...</td>\n",
       "      <td>Madinah</td>\n",
       "    </tr>\n",
       "    <tr>\n",
       "      <th>3</th>\n",
       "      <td>3</td>\n",
       "      <td>Millennium Madinah Airport</td>\n",
       "      <td>14 km from center</td>\n",
       "      <td>8.3</td>\n",
       "      <td>550</td>\n",
       "      <td>https://booking.com/hotel/sa/millennium-madina...</td>\n",
       "      <td>['Restaurant']</td>\n",
       "      <td>['Pets:Pets are not allowed.:', 'Food &amp;amp; Dr...</td>\n",
       "      <td>Madinah</td>\n",
       "    </tr>\n",
       "    <tr>\n",
       "      <th>4</th>\n",
       "      <td>4</td>\n",
       "      <td>Marina Palace Hotel</td>\n",
       "      <td>1.4 km from center</td>\n",
       "      <td>7.5</td>\n",
       "      <td>7,935</td>\n",
       "      <td>https://booking.com/hotel/sa/marina-palace.htm...</td>\n",
       "      <td>['Non-smoking rooms']</td>\n",
       "      <td>['Outdoors:Terrace:', 'Pets:Pets are not allow...</td>\n",
       "      <td>Madinah</td>\n",
       "    </tr>\n",
       "  </tbody>\n",
       "</table>\n",
       "</div>"
      ],
      "text/plain": [
       "   Unnamed: 0                     Hotel_name                 Are   Review  \\\n",
       "0           0        Madinah Mövenpick Hotel   350 m from center      7.6   \n",
       "1           1  Dar Al Hijra InterContinental   750 m from center      7.9   \n",
       "2           2       Al Madinah Harmony Hotel   750 m from center      7.2   \n",
       "3           3     Millennium Madinah Airport   14 km from center      8.3   \n",
       "4           4            Marina Palace Hotel  1.4 km from center      7.5   \n",
       "\n",
       "   price                                                url  \\\n",
       "0    599  https://booking.com/hotel/sa/madinah-movenpick...   \n",
       "1    618  https://booking.com/hotel/sa/dar-al-hijra-inte...   \n",
       "2    440  https://booking.com/hotel/sa/al-madinah-harmon...   \n",
       "3    550  https://booking.com/hotel/sa/millennium-madina...   \n",
       "4  7,935  https://booking.com/hotel/sa/marina-palace.htm...   \n",
       "\n",
       "              facilities                               checklist_facilities  \\\n",
       "0                     []  ['Pets:Pets are not allowed.:', 'Food &amp; Dr...   \n",
       "1       ['Family rooms']  ['Outdoors:Outdoor furniture:', 'Pets:Pets are...   \n",
       "2          ['Free WiFi']  ['Pets:Pets are not allowed.:', \"Food &amp; Dr...   \n",
       "3         ['Restaurant']  ['Pets:Pets are not allowed.:', 'Food &amp; Dr...   \n",
       "4  ['Non-smoking rooms']  ['Outdoors:Terrace:', 'Pets:Pets are not allow...   \n",
       "\n",
       "      city  \n",
       "0  Madinah  \n",
       "1  Madinah  \n",
       "2  Madinah  \n",
       "3  Madinah  \n",
       "4  Madinah  "
      ]
     },
     "execution_count": 7,
     "metadata": {},
     "output_type": "execute_result"
    }
   ],
   "source": [
    "df.head()"
   ]
  },
  {
   "cell_type": "code",
   "execution_count": 8,
   "id": "c459ac65",
   "metadata": {},
   "outputs": [
    {
     "data": {
      "text/html": [
       "<div>\n",
       "<style scoped>\n",
       "    .dataframe tbody tr th:only-of-type {\n",
       "        vertical-align: middle;\n",
       "    }\n",
       "\n",
       "    .dataframe tbody tr th {\n",
       "        vertical-align: top;\n",
       "    }\n",
       "\n",
       "    .dataframe thead th {\n",
       "        text-align: right;\n",
       "    }\n",
       "</style>\n",
       "<table border=\"1\" class=\"dataframe\">\n",
       "  <thead>\n",
       "    <tr style=\"text-align: right;\">\n",
       "      <th></th>\n",
       "      <th>Hotel_name</th>\n",
       "      <th>Are</th>\n",
       "      <th>Review</th>\n",
       "      <th>price</th>\n",
       "      <th>url</th>\n",
       "      <th>facilities</th>\n",
       "      <th>checklist_facilities</th>\n",
       "      <th>city</th>\n",
       "    </tr>\n",
       "  </thead>\n",
       "  <tbody>\n",
       "    <tr>\n",
       "      <th>0</th>\n",
       "      <td>Madinah Mövenpick Hotel</td>\n",
       "      <td>350 m from center</td>\n",
       "      <td>7.6</td>\n",
       "      <td>599</td>\n",
       "      <td>https://booking.com/hotel/sa/madinah-movenpick...</td>\n",
       "      <td>[]</td>\n",
       "      <td>['Pets:Pets are not allowed.:', 'Food &amp;amp; Dr...</td>\n",
       "      <td>Madinah</td>\n",
       "    </tr>\n",
       "    <tr>\n",
       "      <th>1</th>\n",
       "      <td>Dar Al Hijra InterContinental</td>\n",
       "      <td>750 m from center</td>\n",
       "      <td>7.9</td>\n",
       "      <td>618</td>\n",
       "      <td>https://booking.com/hotel/sa/dar-al-hijra-inte...</td>\n",
       "      <td>['Family rooms']</td>\n",
       "      <td>['Outdoors:Outdoor furniture:', 'Pets:Pets are...</td>\n",
       "      <td>Madinah</td>\n",
       "    </tr>\n",
       "    <tr>\n",
       "      <th>2</th>\n",
       "      <td>Al Madinah Harmony Hotel</td>\n",
       "      <td>750 m from center</td>\n",
       "      <td>7.2</td>\n",
       "      <td>440</td>\n",
       "      <td>https://booking.com/hotel/sa/al-madinah-harmon...</td>\n",
       "      <td>['Free WiFi']</td>\n",
       "      <td>['Pets:Pets are not allowed.:', \"Food &amp;amp; Dr...</td>\n",
       "      <td>Madinah</td>\n",
       "    </tr>\n",
       "    <tr>\n",
       "      <th>3</th>\n",
       "      <td>Millennium Madinah Airport</td>\n",
       "      <td>14 km from center</td>\n",
       "      <td>8.3</td>\n",
       "      <td>550</td>\n",
       "      <td>https://booking.com/hotel/sa/millennium-madina...</td>\n",
       "      <td>['Restaurant']</td>\n",
       "      <td>['Pets:Pets are not allowed.:', 'Food &amp;amp; Dr...</td>\n",
       "      <td>Madinah</td>\n",
       "    </tr>\n",
       "    <tr>\n",
       "      <th>4</th>\n",
       "      <td>Marina Palace Hotel</td>\n",
       "      <td>1.4 km from center</td>\n",
       "      <td>7.5</td>\n",
       "      <td>7,935</td>\n",
       "      <td>https://booking.com/hotel/sa/marina-palace.htm...</td>\n",
       "      <td>['Non-smoking rooms']</td>\n",
       "      <td>['Outdoors:Terrace:', 'Pets:Pets are not allow...</td>\n",
       "      <td>Madinah</td>\n",
       "    </tr>\n",
       "    <tr>\n",
       "      <th>...</th>\n",
       "      <td>...</td>\n",
       "      <td>...</td>\n",
       "      <td>...</td>\n",
       "      <td>...</td>\n",
       "      <td>...</td>\n",
       "      <td>...</td>\n",
       "      <td>...</td>\n",
       "      <td>...</td>\n",
       "    </tr>\n",
       "    <tr>\n",
       "      <th>1384</th>\n",
       "      <td>فندق إيلاف المشاعر مكة</td>\n",
       "      <td>700 متر من المركز</td>\n",
       "      <td>7.4</td>\n",
       "      <td>2,400</td>\n",
       "      <td>https://booking.com/hotel/sa/elaf-al-mashaer-m...</td>\n",
       "      <td>['غرف عائلية']</td>\n",
       "      <td>['أنشطة خارجية:مدفأة خارجية:تراس:', 'الحيوانات...</td>\n",
       "      <td>Makkah</td>\n",
       "    </tr>\n",
       "    <tr>\n",
       "      <th>1385</th>\n",
       "      <td>فندق سنود اجياد</td>\n",
       "      <td>1.1 كلم من المركز</td>\n",
       "      <td>8.0</td>\n",
       "      <td>899</td>\n",
       "      <td>https://booking.com/hotel/sa/snwd-jyd.ar.html?...</td>\n",
       "      <td>['غرف لغير المدخنين']</td>\n",
       "      <td>['الحيوانات الأليفة:الحيوانات الأليفة  مسموح ب...</td>\n",
       "      <td>Makkah</td>\n",
       "    </tr>\n",
       "    <tr>\n",
       "      <th>1386</th>\n",
       "      <td>KENZI AL JEWAR HOTEL</td>\n",
       "      <td>2.8 كلم من المركز</td>\n",
       "      <td>7.3</td>\n",
       "      <td>357</td>\n",
       "      <td>https://booking.com/hotel/sa/fndq-knzy-ljwr.ar...</td>\n",
       "      <td>['مرافق لذوي الاحتياجات الخاصة']</td>\n",
       "      <td>['الحيوانات الأليفة:الحيوانات الأليفة غير مسمو...</td>\n",
       "      <td>Makkah</td>\n",
       "    </tr>\n",
       "    <tr>\n",
       "      <th>1387</th>\n",
       "      <td>فندق كونكورد مكة</td>\n",
       "      <td>4 كلم من المركز</td>\n",
       "      <td>7.4</td>\n",
       "      <td>300</td>\n",
       "      <td>https://booking.com/hotel/sa/concorde-makkah.a...</td>\n",
       "      <td>[]</td>\n",
       "      <td>['الحيوانات الأليفة:الحيوانات الأليفة غير مسمو...</td>\n",
       "      <td>Makkah</td>\n",
       "    </tr>\n",
       "    <tr>\n",
       "      <th>1388</th>\n",
       "      <td>إيلاف السلام</td>\n",
       "      <td>1.9 كلم من المركز</td>\n",
       "      <td>7.1</td>\n",
       "      <td>310</td>\n",
       "      <td>https://booking.com/hotel/sa/elaf-al-salam-mec...</td>\n",
       "      <td>['واي فاي مجاني']</td>\n",
       "      <td>['الحيوانات الأليفة:الحيوانات الأليفة غير مسمو...</td>\n",
       "      <td>Makkah</td>\n",
       "    </tr>\n",
       "  </tbody>\n",
       "</table>\n",
       "<p>1389 rows × 8 columns</p>\n",
       "</div>"
      ],
      "text/plain": [
       "                         Hotel_name                 Are   Review  price  \\\n",
       "0           Madinah Mövenpick Hotel   350 m from center      7.6    599   \n",
       "1     Dar Al Hijra InterContinental   750 m from center      7.9    618   \n",
       "2          Al Madinah Harmony Hotel   750 m from center      7.2    440   \n",
       "3        Millennium Madinah Airport   14 km from center      8.3    550   \n",
       "4               Marina Palace Hotel  1.4 km from center      7.5  7,935   \n",
       "...                             ...                 ...      ...    ...   \n",
       "1384         فندق إيلاف المشاعر مكة   700 متر من المركز      7.4  2,400   \n",
       "1385                فندق سنود اجياد   1.1 كلم من المركز      8.0    899   \n",
       "1386           KENZI AL JEWAR HOTEL   2.8 كلم من المركز      7.3    357   \n",
       "1387               فندق كونكورد مكة     4 كلم من المركز      7.4    300   \n",
       "1388                   إيلاف السلام   1.9 كلم من المركز      7.1    310   \n",
       "\n",
       "                                                    url  \\\n",
       "0     https://booking.com/hotel/sa/madinah-movenpick...   \n",
       "1     https://booking.com/hotel/sa/dar-al-hijra-inte...   \n",
       "2     https://booking.com/hotel/sa/al-madinah-harmon...   \n",
       "3     https://booking.com/hotel/sa/millennium-madina...   \n",
       "4     https://booking.com/hotel/sa/marina-palace.htm...   \n",
       "...                                                 ...   \n",
       "1384  https://booking.com/hotel/sa/elaf-al-mashaer-m...   \n",
       "1385  https://booking.com/hotel/sa/snwd-jyd.ar.html?...   \n",
       "1386  https://booking.com/hotel/sa/fndq-knzy-ljwr.ar...   \n",
       "1387  https://booking.com/hotel/sa/concorde-makkah.a...   \n",
       "1388  https://booking.com/hotel/sa/elaf-al-salam-mec...   \n",
       "\n",
       "                            facilities  \\\n",
       "0                                   []   \n",
       "1                     ['Family rooms']   \n",
       "2                        ['Free WiFi']   \n",
       "3                       ['Restaurant']   \n",
       "4                ['Non-smoking rooms']   \n",
       "...                                ...   \n",
       "1384                    ['غرف عائلية']   \n",
       "1385             ['غرف لغير المدخنين']   \n",
       "1386  ['مرافق لذوي الاحتياجات الخاصة']   \n",
       "1387                                []   \n",
       "1388                 ['واي فاي مجاني']   \n",
       "\n",
       "                                   checklist_facilities     city  \n",
       "0     ['Pets:Pets are not allowed.:', 'Food &amp; Dr...  Madinah  \n",
       "1     ['Outdoors:Outdoor furniture:', 'Pets:Pets are...  Madinah  \n",
       "2     ['Pets:Pets are not allowed.:', \"Food &amp; Dr...  Madinah  \n",
       "3     ['Pets:Pets are not allowed.:', 'Food &amp; Dr...  Madinah  \n",
       "4     ['Outdoors:Terrace:', 'Pets:Pets are not allow...  Madinah  \n",
       "...                                                 ...      ...  \n",
       "1384  ['أنشطة خارجية:مدفأة خارجية:تراس:', 'الحيوانات...   Makkah  \n",
       "1385  ['الحيوانات الأليفة:الحيوانات الأليفة  مسموح ب...   Makkah  \n",
       "1386  ['الحيوانات الأليفة:الحيوانات الأليفة غير مسمو...   Makkah  \n",
       "1387  ['الحيوانات الأليفة:الحيوانات الأليفة غير مسمو...   Makkah  \n",
       "1388  ['الحيوانات الأليفة:الحيوانات الأليفة غير مسمو...   Makkah  \n",
       "\n",
       "[1389 rows x 8 columns]"
      ]
     },
     "execution_count": 8,
     "metadata": {},
     "output_type": "execute_result"
    }
   ],
   "source": [
    "#Make a copy\n",
    "df2=df.copy()\n",
    "#the first coulmn is useless\n",
    "df2.drop(df.columns[0],axis=1)"
   ]
  },
  {
   "cell_type": "code",
   "execution_count": 9,
   "id": "850dab00",
   "metadata": {},
   "outputs": [],
   "source": [
    "# Split it by space to convert it to numeric (since the column means how hotel far from the citycenter)\n",
    "df2[\"Far from city center\"]= df2[\"Are\"].str.split(\" \", n = 1, expand = False)\n"
   ]
  },
  {
   "cell_type": "code",
   "execution_count": null,
   "id": "ee5007cf",
   "metadata": {},
   "outputs": [],
   "source": []
  },
  {
   "cell_type": "code",
   "execution_count": 10,
   "id": "1a32a680",
   "metadata": {},
   "outputs": [
    {
     "name": "stderr",
     "output_type": "stream",
     "text": [
      "/tmp/ipykernel_1182503/3140713472.py:2: SettingWithCopyWarning: \n",
      "A value is trying to be set on a copy of a slice from a DataFrame\n",
      "\n",
      "See the caveats in the documentation: https://pandas.pydata.org/pandas-docs/stable/user_guide/indexing.html#returning-a-view-versus-a-copy\n",
      "  df2[\"Far from city center\"][i]= (df2[\"Far from city center\"][i][0])\n"
     ]
    }
   ],
   "source": [
    "for i in range (df2.shape[0]):\n",
    "     df2[\"Far from city center\"][i]= (df2[\"Far from city center\"][i][0])\n",
    "        \n"
   ]
  },
  {
   "cell_type": "code",
   "execution_count": 11,
   "id": "a64cb356",
   "metadata": {
    "scrolled": true
   },
   "outputs": [
    {
     "data": {
      "text/plain": [
       "0       350.0\n",
       "1       750.0\n",
       "2       750.0\n",
       "3        14.0\n",
       "4         1.4\n",
       "        ...  \n",
       "1384    700.0\n",
       "1385      1.1\n",
       "1386      2.8\n",
       "1387      4.0\n",
       "1388      1.9\n",
       "Name: Far from city center, Length: 1389, dtype: float64"
      ]
     },
     "execution_count": 11,
     "metadata": {},
     "output_type": "execute_result"
    }
   ],
   "source": [
    "# Convert the (Far from city center) column to float\n",
    "df2[\"Far from city center\"]= pd.to_numeric( df2[\"Far from city center\"],errors='coerce')\n",
    "df2[\"Far from city center\"]"
   ]
  },
  {
   "cell_type": "code",
   "execution_count": 12,
   "id": "655a0a86",
   "metadata": {},
   "outputs": [
    {
     "name": "stderr",
     "output_type": "stream",
     "text": [
      "/tmp/ipykernel_1182503/2471152737.py:5: SettingWithCopyWarning: \n",
      "A value is trying to be set on a copy of a slice from a DataFrame\n",
      "\n",
      "See the caveats in the documentation: https://pandas.pydata.org/pandas-docs/stable/user_guide/indexing.html#returning-a-view-versus-a-copy\n",
      "  df2[\"Far from city center\"][i]= (df2[\"Far from city center\"][i])/1000\n"
     ]
    }
   ],
   "source": [
    "# Because there is some entries in km and some in meter, i ll make it all in km.\n",
    "for i in range (df2.shape[0]):\n",
    "     if df2[\"Far from city center\"][i] >100:\n",
    "            #Selected 100 because no one will write in km if it is above 100!\n",
    "        df2[\"Far from city center\"][i]= (df2[\"Far from city center\"][i])/1000\n",
    "        \n"
   ]
  },
  {
   "cell_type": "code",
   "execution_count": 13,
   "id": "3121ea0c",
   "metadata": {},
   "outputs": [
    {
     "data": {
      "text/html": [
       "<div>\n",
       "<style scoped>\n",
       "    .dataframe tbody tr th:only-of-type {\n",
       "        vertical-align: middle;\n",
       "    }\n",
       "\n",
       "    .dataframe tbody tr th {\n",
       "        vertical-align: top;\n",
       "    }\n",
       "\n",
       "    .dataframe thead th {\n",
       "        text-align: right;\n",
       "    }\n",
       "</style>\n",
       "<table border=\"1\" class=\"dataframe\">\n",
       "  <thead>\n",
       "    <tr style=\"text-align: right;\">\n",
       "      <th></th>\n",
       "      <th>Unnamed: 0</th>\n",
       "      <th>Hotel_name</th>\n",
       "      <th>Are</th>\n",
       "      <th>Review</th>\n",
       "      <th>price</th>\n",
       "      <th>url</th>\n",
       "      <th>facilities</th>\n",
       "      <th>checklist_facilities</th>\n",
       "      <th>city</th>\n",
       "      <th>Far from city center</th>\n",
       "    </tr>\n",
       "  </thead>\n",
       "  <tbody>\n",
       "    <tr>\n",
       "      <th>0</th>\n",
       "      <td>0</td>\n",
       "      <td>Madinah Mövenpick Hotel</td>\n",
       "      <td>350 m from center</td>\n",
       "      <td>7.6</td>\n",
       "      <td>599</td>\n",
       "      <td>https://booking.com/hotel/sa/madinah-movenpick...</td>\n",
       "      <td>[]</td>\n",
       "      <td>['Pets:Pets are not allowed.:', 'Food &amp;amp; Dr...</td>\n",
       "      <td>Madinah</td>\n",
       "      <td>0.35</td>\n",
       "    </tr>\n",
       "    <tr>\n",
       "      <th>1</th>\n",
       "      <td>1</td>\n",
       "      <td>Dar Al Hijra InterContinental</td>\n",
       "      <td>750 m from center</td>\n",
       "      <td>7.9</td>\n",
       "      <td>618</td>\n",
       "      <td>https://booking.com/hotel/sa/dar-al-hijra-inte...</td>\n",
       "      <td>['Family rooms']</td>\n",
       "      <td>['Outdoors:Outdoor furniture:', 'Pets:Pets are...</td>\n",
       "      <td>Madinah</td>\n",
       "      <td>0.75</td>\n",
       "    </tr>\n",
       "    <tr>\n",
       "      <th>2</th>\n",
       "      <td>2</td>\n",
       "      <td>Al Madinah Harmony Hotel</td>\n",
       "      <td>750 m from center</td>\n",
       "      <td>7.2</td>\n",
       "      <td>440</td>\n",
       "      <td>https://booking.com/hotel/sa/al-madinah-harmon...</td>\n",
       "      <td>['Free WiFi']</td>\n",
       "      <td>['Pets:Pets are not allowed.:', \"Food &amp;amp; Dr...</td>\n",
       "      <td>Madinah</td>\n",
       "      <td>0.75</td>\n",
       "    </tr>\n",
       "    <tr>\n",
       "      <th>3</th>\n",
       "      <td>3</td>\n",
       "      <td>Millennium Madinah Airport</td>\n",
       "      <td>14 km from center</td>\n",
       "      <td>8.3</td>\n",
       "      <td>550</td>\n",
       "      <td>https://booking.com/hotel/sa/millennium-madina...</td>\n",
       "      <td>['Restaurant']</td>\n",
       "      <td>['Pets:Pets are not allowed.:', 'Food &amp;amp; Dr...</td>\n",
       "      <td>Madinah</td>\n",
       "      <td>14.00</td>\n",
       "    </tr>\n",
       "    <tr>\n",
       "      <th>4</th>\n",
       "      <td>4</td>\n",
       "      <td>Marina Palace Hotel</td>\n",
       "      <td>1.4 km from center</td>\n",
       "      <td>7.5</td>\n",
       "      <td>7,935</td>\n",
       "      <td>https://booking.com/hotel/sa/marina-palace.htm...</td>\n",
       "      <td>['Non-smoking rooms']</td>\n",
       "      <td>['Outdoors:Terrace:', 'Pets:Pets are not allow...</td>\n",
       "      <td>Madinah</td>\n",
       "      <td>1.40</td>\n",
       "    </tr>\n",
       "    <tr>\n",
       "      <th>...</th>\n",
       "      <td>...</td>\n",
       "      <td>...</td>\n",
       "      <td>...</td>\n",
       "      <td>...</td>\n",
       "      <td>...</td>\n",
       "      <td>...</td>\n",
       "      <td>...</td>\n",
       "      <td>...</td>\n",
       "      <td>...</td>\n",
       "      <td>...</td>\n",
       "    </tr>\n",
       "    <tr>\n",
       "      <th>1384</th>\n",
       "      <td>1384</td>\n",
       "      <td>فندق إيلاف المشاعر مكة</td>\n",
       "      <td>700 متر من المركز</td>\n",
       "      <td>7.4</td>\n",
       "      <td>2,400</td>\n",
       "      <td>https://booking.com/hotel/sa/elaf-al-mashaer-m...</td>\n",
       "      <td>['غرف عائلية']</td>\n",
       "      <td>['أنشطة خارجية:مدفأة خارجية:تراس:', 'الحيوانات...</td>\n",
       "      <td>Makkah</td>\n",
       "      <td>0.70</td>\n",
       "    </tr>\n",
       "    <tr>\n",
       "      <th>1385</th>\n",
       "      <td>1385</td>\n",
       "      <td>فندق سنود اجياد</td>\n",
       "      <td>1.1 كلم من المركز</td>\n",
       "      <td>8.0</td>\n",
       "      <td>899</td>\n",
       "      <td>https://booking.com/hotel/sa/snwd-jyd.ar.html?...</td>\n",
       "      <td>['غرف لغير المدخنين']</td>\n",
       "      <td>['الحيوانات الأليفة:الحيوانات الأليفة  مسموح ب...</td>\n",
       "      <td>Makkah</td>\n",
       "      <td>1.10</td>\n",
       "    </tr>\n",
       "    <tr>\n",
       "      <th>1386</th>\n",
       "      <td>1386</td>\n",
       "      <td>KENZI AL JEWAR HOTEL</td>\n",
       "      <td>2.8 كلم من المركز</td>\n",
       "      <td>7.3</td>\n",
       "      <td>357</td>\n",
       "      <td>https://booking.com/hotel/sa/fndq-knzy-ljwr.ar...</td>\n",
       "      <td>['مرافق لذوي الاحتياجات الخاصة']</td>\n",
       "      <td>['الحيوانات الأليفة:الحيوانات الأليفة غير مسمو...</td>\n",
       "      <td>Makkah</td>\n",
       "      <td>2.80</td>\n",
       "    </tr>\n",
       "    <tr>\n",
       "      <th>1387</th>\n",
       "      <td>1387</td>\n",
       "      <td>فندق كونكورد مكة</td>\n",
       "      <td>4 كلم من المركز</td>\n",
       "      <td>7.4</td>\n",
       "      <td>300</td>\n",
       "      <td>https://booking.com/hotel/sa/concorde-makkah.a...</td>\n",
       "      <td>[]</td>\n",
       "      <td>['الحيوانات الأليفة:الحيوانات الأليفة غير مسمو...</td>\n",
       "      <td>Makkah</td>\n",
       "      <td>4.00</td>\n",
       "    </tr>\n",
       "    <tr>\n",
       "      <th>1388</th>\n",
       "      <td>1388</td>\n",
       "      <td>إيلاف السلام</td>\n",
       "      <td>1.9 كلم من المركز</td>\n",
       "      <td>7.1</td>\n",
       "      <td>310</td>\n",
       "      <td>https://booking.com/hotel/sa/elaf-al-salam-mec...</td>\n",
       "      <td>['واي فاي مجاني']</td>\n",
       "      <td>['الحيوانات الأليفة:الحيوانات الأليفة غير مسمو...</td>\n",
       "      <td>Makkah</td>\n",
       "      <td>1.90</td>\n",
       "    </tr>\n",
       "  </tbody>\n",
       "</table>\n",
       "<p>1389 rows × 10 columns</p>\n",
       "</div>"
      ],
      "text/plain": [
       "      Unnamed: 0                     Hotel_name                 Are   Review  \\\n",
       "0              0        Madinah Mövenpick Hotel   350 m from center      7.6   \n",
       "1              1  Dar Al Hijra InterContinental   750 m from center      7.9   \n",
       "2              2       Al Madinah Harmony Hotel   750 m from center      7.2   \n",
       "3              3     Millennium Madinah Airport   14 km from center      8.3   \n",
       "4              4            Marina Palace Hotel  1.4 km from center      7.5   \n",
       "...          ...                            ...                 ...      ...   \n",
       "1384        1384         فندق إيلاف المشاعر مكة   700 متر من المركز      7.4   \n",
       "1385        1385                فندق سنود اجياد   1.1 كلم من المركز      8.0   \n",
       "1386        1386           KENZI AL JEWAR HOTEL   2.8 كلم من المركز      7.3   \n",
       "1387        1387               فندق كونكورد مكة     4 كلم من المركز      7.4   \n",
       "1388        1388                   إيلاف السلام   1.9 كلم من المركز      7.1   \n",
       "\n",
       "      price                                                url  \\\n",
       "0       599  https://booking.com/hotel/sa/madinah-movenpick...   \n",
       "1       618  https://booking.com/hotel/sa/dar-al-hijra-inte...   \n",
       "2       440  https://booking.com/hotel/sa/al-madinah-harmon...   \n",
       "3       550  https://booking.com/hotel/sa/millennium-madina...   \n",
       "4     7,935  https://booking.com/hotel/sa/marina-palace.htm...   \n",
       "...     ...                                                ...   \n",
       "1384  2,400  https://booking.com/hotel/sa/elaf-al-mashaer-m...   \n",
       "1385    899  https://booking.com/hotel/sa/snwd-jyd.ar.html?...   \n",
       "1386    357  https://booking.com/hotel/sa/fndq-knzy-ljwr.ar...   \n",
       "1387    300  https://booking.com/hotel/sa/concorde-makkah.a...   \n",
       "1388    310  https://booking.com/hotel/sa/elaf-al-salam-mec...   \n",
       "\n",
       "                            facilities  \\\n",
       "0                                   []   \n",
       "1                     ['Family rooms']   \n",
       "2                        ['Free WiFi']   \n",
       "3                       ['Restaurant']   \n",
       "4                ['Non-smoking rooms']   \n",
       "...                                ...   \n",
       "1384                    ['غرف عائلية']   \n",
       "1385             ['غرف لغير المدخنين']   \n",
       "1386  ['مرافق لذوي الاحتياجات الخاصة']   \n",
       "1387                                []   \n",
       "1388                 ['واي فاي مجاني']   \n",
       "\n",
       "                                   checklist_facilities     city  \\\n",
       "0     ['Pets:Pets are not allowed.:', 'Food &amp; Dr...  Madinah   \n",
       "1     ['Outdoors:Outdoor furniture:', 'Pets:Pets are...  Madinah   \n",
       "2     ['Pets:Pets are not allowed.:', \"Food &amp; Dr...  Madinah   \n",
       "3     ['Pets:Pets are not allowed.:', 'Food &amp; Dr...  Madinah   \n",
       "4     ['Outdoors:Terrace:', 'Pets:Pets are not allow...  Madinah   \n",
       "...                                                 ...      ...   \n",
       "1384  ['أنشطة خارجية:مدفأة خارجية:تراس:', 'الحيوانات...   Makkah   \n",
       "1385  ['الحيوانات الأليفة:الحيوانات الأليفة  مسموح ب...   Makkah   \n",
       "1386  ['الحيوانات الأليفة:الحيوانات الأليفة غير مسمو...   Makkah   \n",
       "1387  ['الحيوانات الأليفة:الحيوانات الأليفة غير مسمو...   Makkah   \n",
       "1388  ['الحيوانات الأليفة:الحيوانات الأليفة غير مسمو...   Makkah   \n",
       "\n",
       "      Far from city center  \n",
       "0                     0.35  \n",
       "1                     0.75  \n",
       "2                     0.75  \n",
       "3                    14.00  \n",
       "4                     1.40  \n",
       "...                    ...  \n",
       "1384                  0.70  \n",
       "1385                  1.10  \n",
       "1386                  2.80  \n",
       "1387                  4.00  \n",
       "1388                  1.90  \n",
       "\n",
       "[1389 rows x 10 columns]"
      ]
     },
     "execution_count": 13,
     "metadata": {},
     "output_type": "execute_result"
    }
   ],
   "source": [
    "df2"
   ]
  },
  {
   "cell_type": "code",
   "execution_count": 14,
   "id": "077cca33",
   "metadata": {},
   "outputs": [
    {
     "data": {
      "text/plain": [
       "Riyadh     509\n",
       "Jeddah     349\n",
       "Khobar     125\n",
       "Makkah     100\n",
       "Yanbu       77\n",
       "Dammam      77\n",
       "Taif        77\n",
       "Madinah     75\n",
       "Name: city, dtype: int64"
      ]
     },
     "execution_count": 14,
     "metadata": {},
     "output_type": "execute_result"
    },
    {
     "data": {
      "image/png": "[encoded data removed]",
      "text/plain": [
       "<Figure size 640x480 with 1 Axes>"
      ]
     },
     "metadata": {},
     "output_type": "display_data"
    }
   ],
   "source": [
    "df\n",
    "# what are the most booked cities?\n",
    "plt.hist(df2['city'],color='green')\n",
    "df2['city'].value_counts()"
   ]
  },
  {
   "cell_type": "code",
   "execution_count": 15,
   "id": "fa3a037a",
   "metadata": {},
   "outputs": [
    {
     "name": "stderr",
     "output_type": "stream",
     "text": [
      "/tmp/ipykernel_1182503/326993553.py:4: SettingWithCopyWarning: \n",
      "A value is trying to be set on a copy of a slice from a DataFrame.\n",
      "Try using .loc[row_indexer,col_indexer] = value instead\n",
      "\n",
      "See the caveats in the documentation: https://pandas.pydata.org/pandas-docs/stable/user_guide/indexing.html#returning-a-view-versus-a-copy\n",
      "  mostbooked[' price']=mostbooked[' price'].str.replace(',','')\n",
      "/tmp/ipykernel_1182503/326993553.py:5: SettingWithCopyWarning: \n",
      "A value is trying to be set on a copy of a slice from a DataFrame.\n",
      "Try using .loc[row_indexer,col_indexer] = value instead\n",
      "\n",
      "See the caveats in the documentation: https://pandas.pydata.org/pandas-docs/stable/user_guide/indexing.html#returning-a-view-versus-a-copy\n",
      "  mostbooked[' price']=mostbooked[' price'].astype(float)\n",
      "/tmp/ipykernel_1182503/326993553.py:6: SettingWithCopyWarning: \n",
      "A value is trying to be set on a copy of a slice from a DataFrame.\n",
      "Try using .loc[row_indexer,col_indexer] = value instead\n",
      "\n",
      "See the caveats in the documentation: https://pandas.pydata.org/pandas-docs/stable/user_guide/indexing.html#returning-a-view-versus-a-copy\n",
      "  others[' price']=others[' price'].str.replace(',','')\n",
      "/tmp/ipykernel_1182503/326993553.py:7: SettingWithCopyWarning: \n",
      "A value is trying to be set on a copy of a slice from a DataFrame.\n",
      "Try using .loc[row_indexer,col_indexer] = value instead\n",
      "\n",
      "See the caveats in the documentation: https://pandas.pydata.org/pandas-docs/stable/user_guide/indexing.html#returning-a-view-versus-a-copy\n",
      "  others[' price']=others[' price'].astype(float)\n"
     ]
    }
   ],
   "source": [
    "mostbooked=df2[ (df2['city']=='Riyadh') | (df2['city']=='jeddah') ]\n",
    "others=df2[ (df2['city']!='Riyadh') & (df2['city']!='jeddah') ]\n",
    "#convert price column to float\n",
    "mostbooked[' price']=mostbooked[' price'].str.replace(',','')\n",
    "mostbooked[' price']=mostbooked[' price'].astype(float)\n",
    "others[' price']=others[' price'].str.replace(',','')\n",
    "others[' price']=others[' price'].astype(float)"
   ]
  },
  {
   "cell_type": "code",
   "execution_count": 16,
   "id": "b7655dd3",
   "metadata": {},
   "outputs": [
    {
     "name": "stdout",
     "output_type": "stream",
     "text": [
      "7350.0\n",
      "396.5992141453831\n",
      "42.0\n",
      "9999.0\n",
      "456.5034090909091\n",
      "40.0\n"
     ]
    }
   ],
   "source": [
    "maxpricemost=mostbooked[' price'].max()\n",
    "averagepricemost=mostbooked[' price'].mean()\n",
    "minpricemost=mostbooked[' price'].min()\n",
    "print(maxpricemost)\n",
    "print(averagepricemost)\n",
    "print(minpricemost)\n",
    "maxpriceother=others[' price'].max()\n",
    "averagepriceother=others[' price'].mean()\n",
    "minpriceother=others[' price'].min()\n",
    "print(maxpriceother)\n",
    "print(averagepriceother)\n",
    "print(minpriceother)"
   ]
  },
  {
   "cell_type": "markdown",
   "id": "69b933f6",
   "metadata": {},
   "source": [
    "# The max and average hotel price is more in other city than Riyadh and Jeddah, in my opnion this because Riyadh and Jeddah have more hotels."
   ]
  },
  {
   "cell_type": "code",
   "execution_count": null,
   "id": "f2d6aad8",
   "metadata": {},
   "outputs": [],
   "source": []
  },
  {
   "cell_type": "markdown",
   "id": "4f9cd9b4",
   "metadata": {},
   "source": [
    "# the most common price in Riyadh and jeddah is around 200 Riyal"
   ]
  },
  {
   "cell_type": "code",
   "execution_count": 17,
   "id": "20a6850a",
   "metadata": {},
   "outputs": [
    {
     "data": {
      "image/png": "[encoded data removed]",
      "text/plain": [
       "<Figure size 1000x600 with 1 Axes>"
      ]
     },
     "metadata": {},
     "output_type": "display_data"
    }
   ],
   "source": [
    "plt.figure(figsize=(10,6))\n",
    "bin_edges = np.arange (minpricemost, mostbooked[' price'].max()+1, 5)\n",
    "plt.hist(data = mostbooked, x = ' price', bins = bin_edges, color = 'green')\n",
    "plt.xlim(minpricemost,averagepricemost*2)\n",
    "plt.xlabel('price')\n",
    "plt.ylabel('Frequency');"
   ]
  },
  {
   "cell_type": "markdown",
   "id": "609aef53",
   "metadata": {},
   "source": [
    "# 22.2% of hotels room in riyadh and jeddah are above the average price."
   ]
  },
  {
   "cell_type": "code",
   "execution_count": null,
   "id": "87cfea1b",
   "metadata": {},
   "outputs": [],
   "source": []
  },
  {
   "cell_type": "markdown",
   "id": "c31106cb",
   "metadata": {},
   "source": [
    "# Releation between price and far from city center "
   ]
  },
  {
   "cell_type": "code",
   "execution_count": 18,
   "id": "6252a662",
   "metadata": {},
   "outputs": [
    {
     "name": "stdout",
     "output_type": "stream",
     "text": [
      "Correlation between   price  and  Far from city center is:  -0.02\n",
      "Correlation between   price  and  Far from city center is:  0.03\n"
     ]
    }
   ],
   "source": [
    "\n",
    "col1, col2 = \" price\", \"Far from city center\"\n",
    "corr = mostbooked[col1].corr(mostbooked[col2])\n",
    "print( \"Correlation between \", col1, \" and \", col2, \"is: \", round(corr, 2))\n",
    "\n",
    "\n",
    "col1, col2 = \" price\", \"Far from city center\"\n",
    "corr = others[col1].corr(others[col2])\n",
    "print( \"Correlation between \", col1, \" and \", col2, \"is: \", round(corr, 2))\n",
    "\n",
    "\n"
   ]
  },
  {
   "cell_type": "markdown",
   "id": "35fdd07c",
   "metadata": {},
   "source": [
    "# There is not big influence of the far from city center on price in Riyadh and Jeddah, and vice versa for other cities, maybe that because the  good services in Riyadh and Jeddah not just in the city center."
   ]
  },
  {
   "cell_type": "code",
   "execution_count": null,
   "id": "d9668f18",
   "metadata": {},
   "outputs": [],
   "source": []
  },
  {
   "cell_type": "markdown",
   "id": "372e6e5f",
   "metadata": {},
   "source": [
    "# Releation between price and Review"
   ]
  },
  {
   "cell_type": "code",
   "execution_count": 19,
   "id": "62d7dca8",
   "metadata": {},
   "outputs": [
    {
     "name": "stdout",
     "output_type": "stream",
     "text": [
      "Correlation between   price  and   Review is:  0.34\n",
      "Correlation between   price  and   Review is:  0.07\n"
     ]
    }
   ],
   "source": [
    "\n",
    "col1, col2 = \" price\", \" Review\"\n",
    "corr = mostbooked[col1].corr(mostbooked[col2])\n",
    "print( \"Correlation between \", col1, \" and \", col2, \"is: \", round(corr, 2))\n",
    "\n",
    "\n",
    "col1, col2 = \" price\", \" Review\"\n",
    "corr = others[col1].corr(others[col2])\n",
    "print( \"Correlation between \", col1, \" and \", col2, \"is: \", round(corr, 2))\n",
    "\n"
   ]
  },
  {
   "cell_type": "markdown",
   "id": "62e23e7f",
   "metadata": {},
   "source": [
    "# There is not big influence of Review on price for cities except Riyadh and Jeddah, and vice versa for Riyadh and Jeddah."
   ]
  },
  {
   "cell_type": "code",
   "execution_count": null,
   "id": "ef5eac19",
   "metadata": {},
   "outputs": [],
   "source": []
  },
  {
   "cell_type": "code",
   "execution_count": 20,
   "id": "5a02e3c9",
   "metadata": {},
   "outputs": [
    {
     "name": "stdout",
     "output_type": "stream",
     "text": [
      "9.9\n",
      "7.455009823182705\n",
      "3.4\n",
      "10.0\n",
      "7.725454545454566\n",
      "4.0\n"
     ]
    }
   ],
   "source": [
    "maxReviewemost=mostbooked[' Review'].max()\n",
    "averageReviewemost=mostbooked[' Review'].mean()\n",
    "minReviewmost=mostbooked[' Review'].min()\n",
    "print(maxReviewemost)\n",
    "print(averageReviewemost)\n",
    "print(minReviewmost)\n",
    "maxReviewother=others[' Review'].max()\n",
    "averageReviewother=others[' Review'].mean()\n",
    "minReviewother=others[' Review'].min()\n",
    "print(maxReviewother)\n",
    "print(averageReviewother)\n",
    "print(minReviewother)"
   ]
  },
  {
   "cell_type": "code",
   "execution_count": 21,
   "id": "eb9c8d94",
   "metadata": {},
   "outputs": [
    {
     "ename": "NameError",
     "evalue": "name 'maxReviewmost' is not defined",
     "output_type": "error",
     "traceback": [
      "\u001b[0;31m---------------------------------------------------------------------------\u001b[0m",
      "\u001b[0;31mNameError\u001b[0m                                 Traceback (most recent call last)",
      "\u001b[0;32m/tmp/ipykernel_1182503/453313349.py\u001b[0m in \u001b[0;36m<module>\u001b[0;34m\u001b[0m\n\u001b[1;32m      2\u001b[0m \u001b[0mbin_edges\u001b[0m \u001b[0;34m=\u001b[0m \u001b[0mnp\u001b[0m\u001b[0;34m.\u001b[0m\u001b[0marange\u001b[0m \u001b[0;34m(\u001b[0m\u001b[0mminReviewmost\u001b[0m\u001b[0;34m,\u001b[0m \u001b[0mmostbooked\u001b[0m\u001b[0;34m[\u001b[0m\u001b[0;34m' Review'\u001b[0m\u001b[0;34m]\u001b[0m\u001b[0;34m.\u001b[0m\u001b[0mmax\u001b[0m\u001b[0;34m(\u001b[0m\u001b[0;34m)\u001b[0m\u001b[0;34m+\u001b[0m\u001b[0;36m1\u001b[0m\u001b[0;34m,\u001b[0m \u001b[0;36m0.2\u001b[0m\u001b[0;34m)\u001b[0m\u001b[0;34m\u001b[0m\u001b[0;34m\u001b[0m\u001b[0m\n\u001b[1;32m      3\u001b[0m \u001b[0mplt\u001b[0m\u001b[0;34m.\u001b[0m\u001b[0mhist\u001b[0m\u001b[0;34m(\u001b[0m\u001b[0mdata\u001b[0m \u001b[0;34m=\u001b[0m \u001b[0mmostbooked\u001b[0m\u001b[0;34m,\u001b[0m \u001b[0mx\u001b[0m \u001b[0;34m=\u001b[0m \u001b[0;34m' Review'\u001b[0m\u001b[0;34m,\u001b[0m \u001b[0mbins\u001b[0m \u001b[0;34m=\u001b[0m \u001b[0mbin_edges\u001b[0m\u001b[0;34m,\u001b[0m \u001b[0mcolor\u001b[0m \u001b[0;34m=\u001b[0m \u001b[0;34m'green'\u001b[0m\u001b[0;34m)\u001b[0m\u001b[0;34m\u001b[0m\u001b[0;34m\u001b[0m\u001b[0m\n\u001b[0;32m----> 4\u001b[0;31m \u001b[0mplt\u001b[0m\u001b[0;34m.\u001b[0m\u001b[0mxlim\u001b[0m\u001b[0;34m(\u001b[0m\u001b[0mminReviewmost\u001b[0m\u001b[0;34m,\u001b[0m\u001b[0mmaxReviewmost\u001b[0m\u001b[0;34m)\u001b[0m\u001b[0;34m\u001b[0m\u001b[0;34m\u001b[0m\u001b[0m\n\u001b[0m\u001b[1;32m      5\u001b[0m \u001b[0mplt\u001b[0m\u001b[0;34m.\u001b[0m\u001b[0mxlabel\u001b[0m\u001b[0;34m(\u001b[0m\u001b[0;34m'Review'\u001b[0m\u001b[0;34m)\u001b[0m\u001b[0;34m\u001b[0m\u001b[0;34m\u001b[0m\u001b[0m\n\u001b[1;32m      6\u001b[0m \u001b[0mplt\u001b[0m\u001b[0;34m.\u001b[0m\u001b[0mylabel\u001b[0m\u001b[0;34m(\u001b[0m\u001b[0;34m'Frequency'\u001b[0m\u001b[0;34m)\u001b[0m\u001b[0;34m;\u001b[0m\u001b[0;34m\u001b[0m\u001b[0;34m\u001b[0m\u001b[0m\n",
      "\u001b[0;31mNameError\u001b[0m: name 'maxReviewmost' is not defined"
     ]
    },
    {
     "data": {
      "image/png": "[encoded data removed]",
      "text/plain": [
       "<Figure size 1000x600 with 1 Axes>"
      ]
     },
     "metadata": {},
     "output_type": "display_data"
    }
   ],
   "source": [
    "plt.figure(figsize=(10,6))\n",
    "bin_edges = np.arange (minReviewmost, mostbooked[' Review'].max()+1, 0.2)\n",
    "plt.hist(data = mostbooked, x = ' Review', bins = bin_edges, color = 'green')\n",
    "plt.xlim(minReviewmost,maxReviewmost)\n",
    "plt.xlabel('Review')\n",
    "plt.ylabel('Frequency');"
   ]
  },
  {
   "cell_type": "code",
   "execution_count": null,
   "id": "d77868a6",
   "metadata": {},
   "outputs": [],
   "source": [
    "#Box blot for the riyadh and jeddah hotel Review \n",
    "fig = plt.figure(figsize =(10, 7))\n",
    " \n",
    "# Creating plot\n",
    "plt.boxplot(mostbooked[' Review'] )\n",
    " \n",
    "# show plot\n",
    "plt.show()"
   ]
  },
  {
   "cell_type": "markdown",
   "id": "90ba6515",
   "metadata": {},
   "source": [
    "# 75% of hotels review in Riyadh and Jeddah is between 7 and 8 out f 10"
   ]
  },
  {
   "cell_type": "code",
   "execution_count": null,
   "id": "584c4866",
   "metadata": {},
   "outputs": [],
   "source": []
  },
  {
   "cell_type": "code",
   "execution_count": null,
   "id": "b50b05c7",
   "metadata": {},
   "outputs": [],
   "source": [
    "plt.figure(figsize=(10,6))\n",
    "bin_edges = np.arange (minReviewmost, others[' Review'].max()+1, 0.2)\n",
    "plt.hist(data = others, x = ' Review', bins = bin_edges, color = 'green')\n",
    "plt.xlim(minReviewother,maxReviewother)\n",
    "plt.xlabel('Review')\n",
    "plt.ylabel('Frequency');"
   ]
  },
  {
   "cell_type": "code",
   "execution_count": null,
   "id": "74878de3",
   "metadata": {},
   "outputs": [],
   "source": [
    "#Box blot for the riyadh and jeddah hotel Review \n",
    "fig = plt.figure(figsize =(10, 7))\n",
    " \n",
    "# Creating plot\n",
    "plt.boxplot(others[' Review'] )\n",
    " \n",
    "# show plot\n",
    "plt.show()"
   ]
  },
  {
   "cell_type": "code",
   "execution_count": null,
   "id": "3aabc72f",
   "metadata": {},
   "outputs": [],
   "source": [
    "# 75% of hotels review in other cities is between 7.5 and 8.5 out f 10"
   ]
  }
 ],
 "metadata": {
  "kernelspec": {
   "display_name": "Python 3 (ipykernel)",
   "language": "python",
   "name": "python3"
  },
  "language_info": {
   "codemirror_mode": {
    "name": "ipython",
    "version": 3
   },
   "file_extension": ".py",
   "mimetype": "text/x-python",
   "name": "python",
   "nbconvert_exporter": "python",
   "pygments_lexer": "ipython3",
   "version": "3.9.13"
  }
 },
 "nbformat": 4,
 "nbformat_minor": 5
}
